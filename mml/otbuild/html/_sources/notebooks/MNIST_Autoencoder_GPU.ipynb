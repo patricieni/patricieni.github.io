{
 "cells": [
  {
   "cell_type": "code",
   "execution_count": 1,
   "metadata": {
    "collapsed": true
   },
   "outputs": [],
   "source": [
    "from __future__ import print_function, division\n",
    "import os\n",
    "import torch\n",
    "import pandas as pd\n",
    "from skimage import io, transform\n",
    "import numpy as np\n",
    "import matplotlib.pyplot as plt\n",
    "import seaborn as sns\n",
    "sns.set_style('whitegrid')\n",
    "import imageio\n",
    "import matplotlib as mpl\n",
    "import itertools\n",
    "import os\n",
    "import os.path\n",
    "import glob\n",
    "import sys\n",
    "% matplotlib inline\n",
    "from pathlib import Path\n",
    "# Dataset & Utils\n",
    "from torch.utils.data import Dataset, DataLoader\n",
    "import torchvision\n",
    "from torchvision import transforms, utils\n",
    "from torchvision.utils import save_image\n",
    "\n",
    "# Optimizer, Functions, Distributions\n",
    "from torch.autograd import Variable\n",
    "import torch.nn.functional as F \n",
    "import torch.optim as optim\n",
    "from torch import nn \n",
    "import torch.distributions as ds\n",
    "\n",
    "\n",
    "# My models, optimizer classes - VAE, Adam\n",
    "import nldr.models\n",
    "from nldr.models import vae, Encoder, Decoder, VAE\n",
    "from nldr.models import optimizers, Optimizer\n",
    "import nldr.utils\n",
    "from nldr.utils.datasets import MNIST_Loader, Visualize, Caltech256, Caltech256_Loader\n",
    "\n",
    "# Unrelated but useful\n",
    "get_types = lambda x :[(a, getattr(x, a)) for a in dir(x) if not callable(getattr(x, a)) and a[0] != '_']"
   ]
  },
  {
   "cell_type": "code",
   "execution_count": 2,
   "metadata": {
    "collapsed": true
   },
   "outputs": [],
   "source": [
    "results_path = str(Path(os.getcwd())) + \"/results/vae_mnist/\"\n",
    "data_path = str(Path(os.getcwd())) + \"/data/latent/\""
   ]
  },
  {
   "cell_type": "code",
   "execution_count": null,
   "metadata": {
    "collapsed": true
   },
   "outputs": [],
   "source": [
    "import importlib\n",
    "importlib.reload(nldr.utils)\n",
    "importlib.reload(nldr.models);"
   ]
  },
  {
   "cell_type": "code",
   "execution_count": 3,
   "metadata": {},
   "outputs": [
    {
     "data": {
      "text/plain": [
       "True"
      ]
     },
     "execution_count": 3,
     "metadata": {},
     "output_type": "execute_result"
    }
   ],
   "source": [
    "gpu = torch.cuda.is_available()\n",
    "#gpu = False\n",
    "gpu"
   ]
  },
  {
   "cell_type": "code",
   "execution_count": 4,
   "metadata": {
    "collapsed": true
   },
   "outputs": [],
   "source": [
    "#train_loader, test_loader = MNIST_Loader(batch_size=64).load()\n",
    "train_loader, test_loader = MNIST_Loader().load(batch_size=100)\n",
    "classes = (0,1,2,3,4,5,6,7,8,9)"
   ]
  },
  {
   "cell_type": "code",
   "execution_count": null,
   "metadata": {
    "collapsed": true
   },
   "outputs": [],
   "source": [
    "# get some random training images\n",
    "#dataiter = iter(train_loader)\n",
    "#images, labels = dataiter.next()\n",
    "#rand_image = MNIST_Loader().random_image(images)"
   ]
  },
  {
   "cell_type": "code",
   "execution_count": null,
   "metadata": {
    "collapsed": true
   },
   "outputs": [],
   "source": [
    "#Visualize.imshow_batch(images)\n",
    "#Visualize.display_labels(classes,labels)\n",
    "\n",
    "# Visualize a random digit from a batch\n",
    "#Visualize.imshow_random(images)"
   ]
  },
  {
   "cell_type": "markdown",
   "metadata": {},
   "source": [
    "### VAE Encoder/Decoder architecture"
   ]
  },
  {
   "cell_type": "code",
   "execution_count": 5,
   "metadata": {},
   "outputs": [
    {
     "name": "stdout",
     "output_type": "stream",
     "text": [
      "Using GPU for encoder decoder\n"
     ]
    }
   ],
   "source": [
    "D_in, H, D_out = 784, 500, 36\n",
    "encoder = Encoder(D_in, H, D_out)\n",
    "decoder = Decoder(D_out, H, D_in)\n",
    "if gpu: \n",
    "    print(\"Using GPU for encoder decoder\")\n",
    "    encoder.cuda()\n",
    "    decoder.cuda()"
   ]
  },
  {
   "cell_type": "code",
   "execution_count": 6,
   "metadata": {},
   "outputs": [
    {
     "name": "stdout",
     "output_type": "stream",
     "text": [
      "Using GPU for VAE\n"
     ]
    }
   ],
   "source": [
    "#model_vae = VAE().to(device) - if cuda is available, but not the case, yet\n",
    "model_vae_ = VAE(encoder,decoder)\n",
    "if gpu: \n",
    "    print(\"Using GPU for VAE\")\n",
    "    model_vae_.cuda()\n",
    "optimizer = Optimizer(model_vae_,optimizer = optim.Adam(model_vae_.parameters(), lr=1e-4),early_stopping = True, gpu=gpu,results_path=results_path)\n",
    "#optim.RMSprop(model_vae.parameters(), lr = 1e-3, momentum=0.9)"
   ]
  },
  {
   "cell_type": "code",
   "execution_count": 8,
   "metadata": {
    "scrolled": true
   },
   "outputs": [
    {
     "name": "stderr",
     "output_type": "stream",
     "text": [
      "/afs/inf.ed.ac.uk/user/s10/s1043702/miniconda3/envs/ot/lib/python3.6/site-packages/torch/nn/functional.py:1006: UserWarning: nn.functional.sigmoid is deprecated. Use torch.sigmoid instead.\n",
      "  warnings.warn(\"nn.functional.sigmoid is deprecated. Use torch.sigmoid instead.\")\n",
      "/afs/inf.ed.ac.uk/user/s10/s1043702/miniconda3/envs/ot/lib/python3.6/site-packages/torch/nn/functional.py:52: UserWarning: size_average and reduce args will be deprecated, please use reduction='sum' instead.\n",
      "  warnings.warn(warning.format(ret))\n"
     ]
    },
    {
     "name": "stdout",
     "output_type": "stream",
     "text": [
      "Train Epoch: 1 [0/60000 (0%)]\tLoss: 138.554717\n",
      "Train Epoch: 1 [5000/60000 (8%)]\tLoss: 139.138965\n",
      "Train Epoch: 1 [10000/60000 (17%)]\tLoss: 134.963281\n",
      "Train Epoch: 1 [15000/60000 (25%)]\tLoss: 140.886777\n",
      "Train Epoch: 1 [20000/60000 (33%)]\tLoss: 144.078115\n",
      "Train Epoch: 1 [25000/60000 (42%)]\tLoss: 140.239512\n",
      "Train Epoch: 1 [30000/60000 (50%)]\tLoss: 137.443301\n",
      "Train Epoch: 1 [35000/60000 (58%)]\tLoss: 135.395635\n",
      "Train Epoch: 1 [40000/60000 (67%)]\tLoss: 137.245215\n",
      "Train Epoch: 1 [45000/60000 (75%)]\tLoss: 142.074922\n",
      "Train Epoch: 1 [50000/60000 (83%)]\tLoss: 145.085996\n",
      "Train Epoch: 1 [55000/60000 (92%)]\tLoss: 139.156338\n",
      "====> Epoch: 1 Average loss: 138.3253\n",
      "====> Test set loss: 122.8785\n",
      "Sample on GPU\n",
      "Train Epoch: 2 [0/60000 (0%)]\tLoss: 140.642988\n",
      "Train Epoch: 2 [5000/60000 (8%)]\tLoss: 134.727871\n",
      "Train Epoch: 2 [10000/60000 (17%)]\tLoss: 134.680488\n",
      "Train Epoch: 2 [15000/60000 (25%)]\tLoss: 135.721377\n",
      "Train Epoch: 2 [20000/60000 (33%)]\tLoss: 134.054873\n",
      "Train Epoch: 2 [25000/60000 (42%)]\tLoss: 130.942461\n",
      "Train Epoch: 2 [30000/60000 (50%)]\tLoss: 128.140488\n",
      "Train Epoch: 2 [35000/60000 (58%)]\tLoss: 132.356279\n",
      "Train Epoch: 2 [40000/60000 (67%)]\tLoss: 130.578164\n",
      "Train Epoch: 2 [45000/60000 (75%)]\tLoss: 135.656094\n",
      "Train Epoch: 2 [50000/60000 (83%)]\tLoss: 129.538437\n",
      "Train Epoch: 2 [55000/60000 (92%)]\tLoss: 132.346719\n",
      "====> Epoch: 2 Average loss: 133.0013\n",
      "====> Test set loss: 118.3405\n",
      "Sample on GPU\n",
      "Train Epoch: 3 [0/60000 (0%)]\tLoss: 131.094531\n",
      "Train Epoch: 3 [5000/60000 (8%)]\tLoss: 132.003506\n",
      "Train Epoch: 3 [10000/60000 (17%)]\tLoss: 138.002910\n",
      "Train Epoch: 3 [15000/60000 (25%)]\tLoss: 129.560215\n",
      "Train Epoch: 3 [20000/60000 (33%)]\tLoss: 124.810537\n",
      "Train Epoch: 3 [25000/60000 (42%)]\tLoss: 131.837451\n",
      "Train Epoch: 3 [30000/60000 (50%)]\tLoss: 126.081445\n",
      "Train Epoch: 3 [35000/60000 (58%)]\tLoss: 127.259971\n",
      "Train Epoch: 3 [40000/60000 (67%)]\tLoss: 128.210195\n",
      "Train Epoch: 3 [45000/60000 (75%)]\tLoss: 125.313555\n",
      "Train Epoch: 3 [50000/60000 (83%)]\tLoss: 123.197295\n",
      "Train Epoch: 3 [55000/60000 (92%)]\tLoss: 123.520039\n",
      "====> Epoch: 3 Average loss: 128.8791\n",
      "====> Test set loss: 114.3315\n",
      "Sample on GPU\n",
      "Train Epoch: 4 [0/60000 (0%)]\tLoss: 125.264229\n",
      "Train Epoch: 4 [5000/60000 (8%)]\tLoss: 127.077178\n",
      "Train Epoch: 4 [10000/60000 (17%)]\tLoss: 126.173438\n",
      "Train Epoch: 4 [15000/60000 (25%)]\tLoss: 124.417705\n",
      "Train Epoch: 4 [20000/60000 (33%)]\tLoss: 132.471182\n",
      "Train Epoch: 4 [25000/60000 (42%)]\tLoss: 123.706543\n",
      "Train Epoch: 4 [30000/60000 (50%)]\tLoss: 129.000977\n",
      "Train Epoch: 4 [35000/60000 (58%)]\tLoss: 124.666299\n",
      "Train Epoch: 4 [40000/60000 (67%)]\tLoss: 126.091621\n",
      "Train Epoch: 4 [45000/60000 (75%)]\tLoss: 127.591445\n",
      "Train Epoch: 4 [50000/60000 (83%)]\tLoss: 124.969219\n",
      "Train Epoch: 4 [55000/60000 (92%)]\tLoss: 122.650937\n",
      "====> Epoch: 4 Average loss: 125.6232\n",
      "====> Test set loss: 111.3463\n",
      "Sample on GPU\n",
      "Train Epoch: 5 [0/60000 (0%)]\tLoss: 118.070176\n",
      "Train Epoch: 5 [5000/60000 (8%)]\tLoss: 124.760039\n",
      "Train Epoch: 5 [10000/60000 (17%)]\tLoss: 125.741445\n",
      "Train Epoch: 5 [15000/60000 (25%)]\tLoss: 127.198740\n",
      "Train Epoch: 5 [20000/60000 (33%)]\tLoss: 122.983115\n",
      "Train Epoch: 5 [25000/60000 (42%)]\tLoss: 128.411895\n",
      "Train Epoch: 5 [30000/60000 (50%)]\tLoss: 124.867188\n",
      "Train Epoch: 5 [35000/60000 (58%)]\tLoss: 125.705137\n",
      "Train Epoch: 5 [40000/60000 (67%)]\tLoss: 122.048984\n",
      "Train Epoch: 5 [45000/60000 (75%)]\tLoss: 127.124971\n",
      "Train Epoch: 5 [50000/60000 (83%)]\tLoss: 119.792676\n",
      "Train Epoch: 5 [55000/60000 (92%)]\tLoss: 119.846279\n",
      "====> Epoch: 5 Average loss: 123.0701\n",
      "====> Test set loss: 108.9966\n",
      "Sample on GPU\n",
      "Train Epoch: 6 [0/60000 (0%)]\tLoss: 123.376191\n",
      "Train Epoch: 6 [5000/60000 (8%)]\tLoss: 121.417881\n",
      "Train Epoch: 6 [10000/60000 (17%)]\tLoss: 124.787275\n",
      "Train Epoch: 6 [15000/60000 (25%)]\tLoss: 121.090742\n",
      "Train Epoch: 6 [20000/60000 (33%)]\tLoss: 120.030879\n",
      "Train Epoch: 6 [25000/60000 (42%)]\tLoss: 125.354854\n",
      "Train Epoch: 6 [30000/60000 (50%)]\tLoss: 120.402920\n",
      "Train Epoch: 6 [35000/60000 (58%)]\tLoss: 122.679316\n",
      "Train Epoch: 6 [40000/60000 (67%)]\tLoss: 121.951025\n",
      "Train Epoch: 6 [45000/60000 (75%)]\tLoss: 124.087363\n",
      "Train Epoch: 6 [50000/60000 (83%)]\tLoss: 122.723252\n",
      "Train Epoch: 6 [55000/60000 (92%)]\tLoss: 122.921533\n",
      "====> Epoch: 6 Average loss: 121.0709\n",
      "====> Test set loss: 107.6328\n",
      "Sample on GPU\n",
      "Train Epoch: 7 [0/60000 (0%)]\tLoss: 120.901445\n",
      "Train Epoch: 7 [5000/60000 (8%)]\tLoss: 118.667402\n",
      "Train Epoch: 7 [10000/60000 (17%)]\tLoss: 119.263633\n",
      "Train Epoch: 7 [15000/60000 (25%)]\tLoss: 119.063867\n",
      "Train Epoch: 7 [20000/60000 (33%)]\tLoss: 120.433203\n",
      "Train Epoch: 7 [25000/60000 (42%)]\tLoss: 115.278076\n",
      "Train Epoch: 7 [30000/60000 (50%)]\tLoss: 121.793330\n",
      "Train Epoch: 7 [35000/60000 (58%)]\tLoss: 116.526328\n",
      "Train Epoch: 7 [40000/60000 (67%)]\tLoss: 118.894434\n",
      "Train Epoch: 7 [45000/60000 (75%)]\tLoss: 117.653691\n",
      "Train Epoch: 7 [50000/60000 (83%)]\tLoss: 122.455420\n",
      "Train Epoch: 7 [55000/60000 (92%)]\tLoss: 124.912070\n",
      "====> Epoch: 7 Average loss: 119.3773\n",
      "====> Test set loss: 106.4224\n",
      "Sample on GPU\n",
      "Train Epoch: 8 [0/60000 (0%)]\tLoss: 119.581777\n",
      "Train Epoch: 8 [5000/60000 (8%)]\tLoss: 118.859141\n",
      "Train Epoch: 8 [10000/60000 (17%)]\tLoss: 118.007842\n",
      "Train Epoch: 8 [15000/60000 (25%)]\tLoss: 118.337891\n",
      "Train Epoch: 8 [20000/60000 (33%)]\tLoss: 118.954258\n",
      "Train Epoch: 8 [25000/60000 (42%)]\tLoss: 121.013535\n",
      "Train Epoch: 8 [30000/60000 (50%)]\tLoss: 119.810176\n",
      "Train Epoch: 8 [35000/60000 (58%)]\tLoss: 119.841299\n",
      "Train Epoch: 8 [40000/60000 (67%)]\tLoss: 120.076016\n",
      "Train Epoch: 8 [45000/60000 (75%)]\tLoss: 117.737617\n",
      "Train Epoch: 8 [50000/60000 (83%)]\tLoss: 111.667871\n",
      "Train Epoch: 8 [55000/60000 (92%)]\tLoss: 115.236387\n",
      "====> Epoch: 8 Average loss: 117.9189\n",
      "====> Test set loss: 104.7320\n",
      "Sample on GPU\n",
      "Train Epoch: 9 [0/60000 (0%)]\tLoss: 116.918447\n",
      "Train Epoch: 9 [5000/60000 (8%)]\tLoss: 117.809453\n",
      "Train Epoch: 9 [10000/60000 (17%)]\tLoss: 114.873613\n",
      "Train Epoch: 9 [15000/60000 (25%)]\tLoss: 114.688574\n",
      "Train Epoch: 9 [20000/60000 (33%)]\tLoss: 118.524883\n",
      "Train Epoch: 9 [25000/60000 (42%)]\tLoss: 119.084492\n",
      "Train Epoch: 9 [30000/60000 (50%)]\tLoss: 117.798965\n",
      "Train Epoch: 9 [35000/60000 (58%)]\tLoss: 121.597891\n",
      "Train Epoch: 9 [40000/60000 (67%)]\tLoss: 122.524512\n",
      "Train Epoch: 9 [45000/60000 (75%)]\tLoss: 118.416816\n",
      "Train Epoch: 9 [50000/60000 (83%)]\tLoss: 115.303115\n",
      "Train Epoch: 9 [55000/60000 (92%)]\tLoss: 116.437588\n",
      "====> Epoch: 9 Average loss: 116.6586\n",
      "====> Test set loss: 103.5867\n",
      "Sample on GPU\n",
      "Train Epoch: 10 [0/60000 (0%)]\tLoss: 119.007197\n",
      "Train Epoch: 10 [5000/60000 (8%)]\tLoss: 113.158838\n",
      "Train Epoch: 10 [10000/60000 (17%)]\tLoss: 117.677520\n",
      "Train Epoch: 10 [15000/60000 (25%)]\tLoss: 112.093789\n",
      "Train Epoch: 10 [20000/60000 (33%)]\tLoss: 111.669619\n",
      "Train Epoch: 10 [25000/60000 (42%)]\tLoss: 117.250703\n",
      "Train Epoch: 10 [30000/60000 (50%)]\tLoss: 117.931270\n",
      "Train Epoch: 10 [35000/60000 (58%)]\tLoss: 113.926602\n",
      "Train Epoch: 10 [40000/60000 (67%)]\tLoss: 115.036895\n",
      "Train Epoch: 10 [45000/60000 (75%)]\tLoss: 114.448105\n",
      "Train Epoch: 10 [50000/60000 (83%)]\tLoss: 113.384209\n",
      "Train Epoch: 10 [55000/60000 (92%)]\tLoss: 115.109258\n",
      "====> Epoch: 10 Average loss: 115.6179\n",
      "====> Test set loss: 102.5347\n",
      "Sample on GPU\n",
      "Train Epoch: 11 [0/60000 (0%)]\tLoss: 115.973164\n",
      "Train Epoch: 11 [5000/60000 (8%)]\tLoss: 113.999727\n",
      "Train Epoch: 11 [10000/60000 (17%)]\tLoss: 115.067559\n",
      "Train Epoch: 11 [15000/60000 (25%)]\tLoss: 111.597480\n",
      "Train Epoch: 11 [20000/60000 (33%)]\tLoss: 118.009883\n",
      "Train Epoch: 11 [25000/60000 (42%)]\tLoss: 113.662188\n",
      "Train Epoch: 11 [30000/60000 (50%)]\tLoss: 115.732070\n",
      "Train Epoch: 11 [35000/60000 (58%)]\tLoss: 112.625615\n",
      "Train Epoch: 11 [40000/60000 (67%)]\tLoss: 114.414678\n",
      "Train Epoch: 11 [45000/60000 (75%)]\tLoss: 115.971953\n",
      "Train Epoch: 11 [50000/60000 (83%)]\tLoss: 112.430684\n",
      "Train Epoch: 11 [55000/60000 (92%)]\tLoss: 116.626172\n",
      "====> Epoch: 11 Average loss: 114.6012\n",
      "====> Test set loss: 101.5754\n",
      "Sample on GPU\n",
      "Train Epoch: 12 [0/60000 (0%)]\tLoss: 109.092969\n",
      "Train Epoch: 12 [5000/60000 (8%)]\tLoss: 114.426992\n",
      "Train Epoch: 12 [10000/60000 (17%)]\tLoss: 115.947852\n",
      "Train Epoch: 12 [15000/60000 (25%)]\tLoss: 119.514746\n",
      "Train Epoch: 12 [20000/60000 (33%)]\tLoss: 114.657441\n",
      "Train Epoch: 12 [25000/60000 (42%)]\tLoss: 114.954844\n",
      "Train Epoch: 12 [30000/60000 (50%)]\tLoss: 107.224150\n",
      "Train Epoch: 12 [35000/60000 (58%)]\tLoss: 121.073828\n",
      "Train Epoch: 12 [40000/60000 (67%)]\tLoss: 111.048867\n",
      "Train Epoch: 12 [45000/60000 (75%)]\tLoss: 115.262656\n"
     ]
    },
    {
     "name": "stdout",
     "output_type": "stream",
     "text": [
      "Train Epoch: 12 [50000/60000 (83%)]\tLoss: 114.928574\n",
      "Train Epoch: 12 [55000/60000 (92%)]\tLoss: 114.783037\n",
      "====> Epoch: 12 Average loss: 113.7318\n",
      "====> Test set loss: 101.1892\n",
      "Sample on GPU\n",
      "Train Epoch: 13 [0/60000 (0%)]\tLoss: 118.609141\n",
      "Train Epoch: 13 [5000/60000 (8%)]\tLoss: 111.601230\n",
      "Train Epoch: 13 [10000/60000 (17%)]\tLoss: 119.184893\n",
      "Train Epoch: 13 [15000/60000 (25%)]\tLoss: 120.209131\n",
      "Train Epoch: 13 [20000/60000 (33%)]\tLoss: 115.739639\n",
      "Train Epoch: 13 [25000/60000 (42%)]\tLoss: 113.177598\n",
      "Train Epoch: 13 [30000/60000 (50%)]\tLoss: 112.005469\n",
      "Train Epoch: 13 [35000/60000 (58%)]\tLoss: 114.875459\n",
      "Train Epoch: 13 [40000/60000 (67%)]\tLoss: 113.063203\n",
      "Train Epoch: 13 [45000/60000 (75%)]\tLoss: 113.491377\n",
      "Train Epoch: 13 [50000/60000 (83%)]\tLoss: 115.477578\n",
      "Train Epoch: 13 [55000/60000 (92%)]\tLoss: 109.179736\n",
      "====> Epoch: 13 Average loss: 113.0426\n",
      "====> Test set loss: 100.6240\n",
      "Sample on GPU\n",
      "Train Epoch: 14 [0/60000 (0%)]\tLoss: 110.676230\n",
      "Train Epoch: 14 [5000/60000 (8%)]\tLoss: 111.083066\n",
      "Train Epoch: 14 [10000/60000 (17%)]\tLoss: 109.503379\n",
      "Train Epoch: 14 [15000/60000 (25%)]\tLoss: 110.952539\n",
      "Train Epoch: 14 [20000/60000 (33%)]\tLoss: 117.603447\n",
      "Train Epoch: 14 [25000/60000 (42%)]\tLoss: 112.346240\n",
      "Train Epoch: 14 [30000/60000 (50%)]\tLoss: 106.642422\n",
      "Train Epoch: 14 [35000/60000 (58%)]\tLoss: 115.706289\n",
      "Train Epoch: 14 [40000/60000 (67%)]\tLoss: 110.074453\n",
      "Train Epoch: 14 [45000/60000 (75%)]\tLoss: 118.016377\n",
      "Train Epoch: 14 [50000/60000 (83%)]\tLoss: 113.165303\n",
      "Train Epoch: 14 [55000/60000 (92%)]\tLoss: 112.421396\n",
      "====> Epoch: 14 Average loss: 112.3610\n",
      "====> Test set loss: 100.4810\n",
      "Sample on GPU\n",
      "Train Epoch: 15 [0/60000 (0%)]\tLoss: 114.288418\n",
      "Train Epoch: 15 [5000/60000 (8%)]\tLoss: 110.386504\n",
      "Train Epoch: 15 [10000/60000 (17%)]\tLoss: 111.136553\n",
      "Train Epoch: 15 [15000/60000 (25%)]\tLoss: 113.847832\n",
      "Train Epoch: 15 [20000/60000 (33%)]\tLoss: 109.434756\n",
      "Train Epoch: 15 [25000/60000 (42%)]\tLoss: 111.680547\n",
      "Train Epoch: 15 [30000/60000 (50%)]\tLoss: 108.479775\n",
      "Train Epoch: 15 [35000/60000 (58%)]\tLoss: 112.162031\n",
      "Train Epoch: 15 [40000/60000 (67%)]\tLoss: 111.171338\n",
      "Train Epoch: 15 [45000/60000 (75%)]\tLoss: 112.110371\n",
      "Train Epoch: 15 [50000/60000 (83%)]\tLoss: 112.513164\n",
      "Train Epoch: 15 [55000/60000 (92%)]\tLoss: 111.992529\n",
      "====> Epoch: 15 Average loss: 111.7808\n",
      "====> Test set loss: 99.5134\n",
      "Sample on GPU\n",
      "Train Epoch: 16 [0/60000 (0%)]\tLoss: 111.848770\n",
      "Train Epoch: 16 [5000/60000 (8%)]\tLoss: 110.022568\n",
      "Train Epoch: 16 [10000/60000 (17%)]\tLoss: 108.910273\n",
      "Train Epoch: 16 [15000/60000 (25%)]\tLoss: 108.284023\n",
      "Train Epoch: 16 [20000/60000 (33%)]\tLoss: 104.350020\n",
      "Train Epoch: 16 [25000/60000 (42%)]\tLoss: 113.162676\n",
      "Train Epoch: 16 [30000/60000 (50%)]\tLoss: 113.064473\n",
      "Train Epoch: 16 [35000/60000 (58%)]\tLoss: 111.306670\n",
      "Train Epoch: 16 [40000/60000 (67%)]\tLoss: 112.678926\n",
      "Train Epoch: 16 [45000/60000 (75%)]\tLoss: 114.548906\n",
      "Train Epoch: 16 [50000/60000 (83%)]\tLoss: 111.353613\n",
      "Train Epoch: 16 [55000/60000 (92%)]\tLoss: 114.985176\n",
      "====> Epoch: 16 Average loss: 111.3042\n",
      "====> Test set loss: 99.1668\n",
      "Sample on GPU\n",
      "Train Epoch: 17 [0/60000 (0%)]\tLoss: 113.071738\n",
      "Train Epoch: 17 [5000/60000 (8%)]\tLoss: 106.413457\n",
      "Train Epoch: 17 [10000/60000 (17%)]\tLoss: 107.572471\n",
      "Train Epoch: 17 [15000/60000 (25%)]\tLoss: 111.274629\n",
      "Train Epoch: 17 [20000/60000 (33%)]\tLoss: 112.332363\n",
      "Train Epoch: 17 [25000/60000 (42%)]\tLoss: 110.184531\n",
      "Train Epoch: 17 [30000/60000 (50%)]\tLoss: 111.192227\n",
      "Train Epoch: 17 [35000/60000 (58%)]\tLoss: 112.801992\n",
      "Train Epoch: 17 [40000/60000 (67%)]\tLoss: 109.504336\n",
      "Train Epoch: 17 [45000/60000 (75%)]\tLoss: 108.719746\n",
      "Train Epoch: 17 [50000/60000 (83%)]\tLoss: 107.494512\n",
      "Train Epoch: 17 [55000/60000 (92%)]\tLoss: 108.757656\n",
      "====> Epoch: 17 Average loss: 110.8204\n",
      "====> Test set loss: 98.5510\n",
      "Sample on GPU\n",
      "Train Epoch: 18 [0/60000 (0%)]\tLoss: 114.101816\n",
      "Train Epoch: 18 [5000/60000 (8%)]\tLoss: 110.502129\n",
      "Train Epoch: 18 [10000/60000 (17%)]\tLoss: 116.731436\n",
      "Train Epoch: 18 [15000/60000 (25%)]\tLoss: 109.721934\n",
      "Train Epoch: 18 [20000/60000 (33%)]\tLoss: 110.199092\n",
      "Train Epoch: 18 [25000/60000 (42%)]\tLoss: 111.472344\n",
      "Train Epoch: 18 [30000/60000 (50%)]\tLoss: 110.084082\n",
      "Train Epoch: 18 [35000/60000 (58%)]\tLoss: 108.175020\n",
      "Train Epoch: 18 [40000/60000 (67%)]\tLoss: 109.334990\n",
      "Train Epoch: 18 [45000/60000 (75%)]\tLoss: 113.755195\n",
      "Train Epoch: 18 [50000/60000 (83%)]\tLoss: 112.021162\n",
      "Train Epoch: 18 [55000/60000 (92%)]\tLoss: 109.488398\n",
      "====> Epoch: 18 Average loss: 110.4053\n",
      "====> Test set loss: 98.5775\n",
      "Sample on GPU\n",
      "Train Epoch: 19 [0/60000 (0%)]\tLoss: 108.968320\n",
      "Train Epoch: 19 [5000/60000 (8%)]\tLoss: 113.404473\n",
      "Train Epoch: 19 [10000/60000 (17%)]\tLoss: 110.942969\n",
      "Train Epoch: 19 [15000/60000 (25%)]\tLoss: 108.818789\n",
      "Train Epoch: 19 [20000/60000 (33%)]\tLoss: 116.121768\n",
      "Train Epoch: 19 [25000/60000 (42%)]\tLoss: 110.135635\n",
      "Train Epoch: 19 [30000/60000 (50%)]\tLoss: 106.636279\n",
      "Train Epoch: 19 [35000/60000 (58%)]\tLoss: 114.024424\n",
      "Train Epoch: 19 [40000/60000 (67%)]\tLoss: 110.561748\n",
      "Train Epoch: 19 [45000/60000 (75%)]\tLoss: 111.707852\n",
      "Train Epoch: 19 [50000/60000 (83%)]\tLoss: 110.478516\n",
      "Train Epoch: 19 [55000/60000 (92%)]\tLoss: 110.430928\n",
      "====> Epoch: 19 Average loss: 110.0112\n",
      "====> Test set loss: 98.3443\n",
      "Sample on GPU\n",
      "Train Epoch: 20 [0/60000 (0%)]\tLoss: 113.032119\n",
      "Train Epoch: 20 [5000/60000 (8%)]\tLoss: 104.147461\n",
      "Train Epoch: 20 [10000/60000 (17%)]\tLoss: 114.323867\n",
      "Train Epoch: 20 [15000/60000 (25%)]\tLoss: 108.811641\n",
      "Train Epoch: 20 [20000/60000 (33%)]\tLoss: 108.609297\n",
      "Train Epoch: 20 [25000/60000 (42%)]\tLoss: 106.700723\n",
      "Train Epoch: 20 [30000/60000 (50%)]\tLoss: 109.543975\n",
      "Train Epoch: 20 [35000/60000 (58%)]\tLoss: 110.430615\n",
      "Train Epoch: 20 [40000/60000 (67%)]\tLoss: 109.569385\n",
      "Train Epoch: 20 [45000/60000 (75%)]\tLoss: 111.983564\n",
      "Train Epoch: 20 [50000/60000 (83%)]\tLoss: 108.802031\n",
      "Train Epoch: 20 [55000/60000 (92%)]\tLoss: 106.646172\n",
      "====> Epoch: 20 Average loss: 109.6779\n",
      "====> Test set loss: 98.0308\n",
      "Sample on GPU\n",
      "Train Epoch: 21 [0/60000 (0%)]\tLoss: 109.854766\n",
      "Train Epoch: 21 [5000/60000 (8%)]\tLoss: 106.341367\n",
      "Train Epoch: 21 [10000/60000 (17%)]\tLoss: 114.258809\n",
      "Train Epoch: 21 [15000/60000 (25%)]\tLoss: 110.608594\n",
      "Train Epoch: 21 [20000/60000 (33%)]\tLoss: 107.471670\n",
      "Train Epoch: 21 [25000/60000 (42%)]\tLoss: 109.425713\n",
      "Train Epoch: 21 [30000/60000 (50%)]\tLoss: 108.759629\n",
      "Train Epoch: 21 [35000/60000 (58%)]\tLoss: 108.509219\n",
      "Train Epoch: 21 [40000/60000 (67%)]\tLoss: 107.609424\n",
      "Train Epoch: 21 [45000/60000 (75%)]\tLoss: 110.648467\n",
      "Train Epoch: 21 [50000/60000 (83%)]\tLoss: 111.064941\n",
      "Train Epoch: 21 [55000/60000 (92%)]\tLoss: 112.328105\n",
      "====> Epoch: 21 Average loss: 109.3153\n",
      "====> Test set loss: 97.6033\n",
      "Sample on GPU\n",
      "Train Epoch: 22 [0/60000 (0%)]\tLoss: 110.227480\n",
      "Train Epoch: 22 [5000/60000 (8%)]\tLoss: 112.057148\n",
      "Train Epoch: 22 [10000/60000 (17%)]\tLoss: 106.626777\n",
      "Train Epoch: 22 [15000/60000 (25%)]\tLoss: 110.031816\n",
      "Train Epoch: 22 [20000/60000 (33%)]\tLoss: 111.648340\n",
      "Train Epoch: 22 [25000/60000 (42%)]\tLoss: 110.972598\n",
      "Train Epoch: 22 [30000/60000 (50%)]\tLoss: 109.725908\n",
      "Train Epoch: 22 [35000/60000 (58%)]\tLoss: 106.489570\n",
      "Train Epoch: 22 [40000/60000 (67%)]\tLoss: 108.777871\n",
      "Train Epoch: 22 [45000/60000 (75%)]\tLoss: 111.938477\n",
      "Train Epoch: 22 [50000/60000 (83%)]\tLoss: 110.338418\n",
      "Train Epoch: 22 [55000/60000 (92%)]\tLoss: 107.602607\n",
      "====> Epoch: 22 Average loss: 109.0050\n",
      "====> Test set loss: 97.1001\n",
      "Sample on GPU\n",
      "Train Epoch: 23 [0/60000 (0%)]\tLoss: 109.250078\n",
      "Train Epoch: 23 [5000/60000 (8%)]\tLoss: 108.446582\n",
      "Train Epoch: 23 [10000/60000 (17%)]\tLoss: 107.454463\n",
      "Train Epoch: 23 [15000/60000 (25%)]\tLoss: 112.557227\n",
      "Train Epoch: 23 [20000/60000 (33%)]\tLoss: 106.738164\n",
      "Train Epoch: 23 [25000/60000 (42%)]\tLoss: 108.020410\n",
      "Train Epoch: 23 [30000/60000 (50%)]\tLoss: 114.396260\n",
      "Train Epoch: 23 [35000/60000 (58%)]\tLoss: 113.794297\n",
      "Train Epoch: 23 [40000/60000 (67%)]\tLoss: 107.961270\n",
      "Train Epoch: 23 [45000/60000 (75%)]\tLoss: 108.909199\n",
      "Train Epoch: 23 [50000/60000 (83%)]\tLoss: 107.355273\n",
      "Train Epoch: 23 [55000/60000 (92%)]\tLoss: 115.306660\n",
      "====> Epoch: 23 Average loss: 108.6858\n",
      "====> Test set loss: 96.9834\n",
      "Sample on GPU\n",
      "Train Epoch: 24 [0/60000 (0%)]\tLoss: 104.124521\n",
      "Train Epoch: 24 [5000/60000 (8%)]\tLoss: 113.637764\n",
      "Train Epoch: 24 [10000/60000 (17%)]\tLoss: 107.666279\n",
      "Train Epoch: 24 [15000/60000 (25%)]\tLoss: 107.608047\n"
     ]
    },
    {
     "name": "stdout",
     "output_type": "stream",
     "text": [
      "Train Epoch: 24 [20000/60000 (33%)]\tLoss: 104.709844\n",
      "Train Epoch: 24 [25000/60000 (42%)]\tLoss: 108.735078\n",
      "Train Epoch: 24 [30000/60000 (50%)]\tLoss: 103.719209\n",
      "Train Epoch: 24 [35000/60000 (58%)]\tLoss: 109.727529\n",
      "Train Epoch: 24 [40000/60000 (67%)]\tLoss: 107.243682\n",
      "Train Epoch: 24 [45000/60000 (75%)]\tLoss: 104.815273\n",
      "Train Epoch: 24 [50000/60000 (83%)]\tLoss: 105.261484\n",
      "Train Epoch: 24 [55000/60000 (92%)]\tLoss: 110.247217\n",
      "====> Epoch: 24 Average loss: 108.4447\n",
      "====> Test set loss: 96.8342\n",
      "Sample on GPU\n",
      "Train Epoch: 25 [0/60000 (0%)]\tLoss: 108.851328\n",
      "Train Epoch: 25 [5000/60000 (8%)]\tLoss: 109.703984\n",
      "Train Epoch: 25 [10000/60000 (17%)]\tLoss: 103.821172\n",
      "Train Epoch: 25 [15000/60000 (25%)]\tLoss: 105.659219\n",
      "Train Epoch: 25 [20000/60000 (33%)]\tLoss: 103.759502\n",
      "Train Epoch: 25 [25000/60000 (42%)]\tLoss: 105.917695\n",
      "Train Epoch: 25 [30000/60000 (50%)]\tLoss: 108.533730\n",
      "Train Epoch: 25 [35000/60000 (58%)]\tLoss: 106.891553\n",
      "Train Epoch: 25 [40000/60000 (67%)]\tLoss: 109.926387\n",
      "Train Epoch: 25 [45000/60000 (75%)]\tLoss: 105.948711\n",
      "Train Epoch: 25 [50000/60000 (83%)]\tLoss: 108.738857\n",
      "Train Epoch: 25 [55000/60000 (92%)]\tLoss: 108.328301\n",
      "====> Epoch: 25 Average loss: 108.1921\n",
      "====> Test set loss: 96.7131\n",
      "Sample on GPU\n",
      "Train Epoch: 26 [0/60000 (0%)]\tLoss: 104.502744\n",
      "Train Epoch: 26 [5000/60000 (8%)]\tLoss: 109.905586\n",
      "Train Epoch: 26 [10000/60000 (17%)]\tLoss: 107.276357\n",
      "Train Epoch: 26 [15000/60000 (25%)]\tLoss: 109.931309\n",
      "Train Epoch: 26 [20000/60000 (33%)]\tLoss: 108.138145\n",
      "Train Epoch: 26 [25000/60000 (42%)]\tLoss: 104.338848\n",
      "Train Epoch: 26 [30000/60000 (50%)]\tLoss: 108.306162\n",
      "Train Epoch: 26 [35000/60000 (58%)]\tLoss: 114.699805\n",
      "Train Epoch: 26 [40000/60000 (67%)]\tLoss: 107.933301\n",
      "Train Epoch: 26 [45000/60000 (75%)]\tLoss: 114.740322\n",
      "Train Epoch: 26 [50000/60000 (83%)]\tLoss: 107.517031\n",
      "Train Epoch: 26 [55000/60000 (92%)]\tLoss: 108.300723\n",
      "====> Epoch: 26 Average loss: 107.9237\n",
      "====> Test set loss: 96.4463\n",
      "Sample on GPU\n",
      "Train Epoch: 27 [0/60000 (0%)]\tLoss: 103.437109\n",
      "Train Epoch: 27 [5000/60000 (8%)]\tLoss: 105.573164\n",
      "Train Epoch: 27 [10000/60000 (17%)]\tLoss: 107.309668\n",
      "Train Epoch: 27 [15000/60000 (25%)]\tLoss: 107.395840\n",
      "Train Epoch: 27 [20000/60000 (33%)]\tLoss: 107.362920\n",
      "Train Epoch: 27 [25000/60000 (42%)]\tLoss: 104.696621\n",
      "Train Epoch: 27 [30000/60000 (50%)]\tLoss: 104.728154\n",
      "Train Epoch: 27 [35000/60000 (58%)]\tLoss: 101.233437\n",
      "Train Epoch: 27 [40000/60000 (67%)]\tLoss: 107.948047\n",
      "Train Epoch: 27 [45000/60000 (75%)]\tLoss: 112.182822\n",
      "Train Epoch: 27 [50000/60000 (83%)]\tLoss: 104.286270\n",
      "Train Epoch: 27 [55000/60000 (92%)]\tLoss: 108.214258\n",
      "====> Epoch: 27 Average loss: 107.7503\n",
      "====> Test set loss: 96.3530\n",
      "Sample on GPU\n",
      "Train Epoch: 28 [0/60000 (0%)]\tLoss: 108.140176\n",
      "Train Epoch: 28 [5000/60000 (8%)]\tLoss: 104.706475\n",
      "Train Epoch: 28 [10000/60000 (17%)]\tLoss: 107.137754\n",
      "Train Epoch: 28 [15000/60000 (25%)]\tLoss: 107.753682\n",
      "Train Epoch: 28 [20000/60000 (33%)]\tLoss: 105.019023\n",
      "Train Epoch: 28 [25000/60000 (42%)]\tLoss: 108.945918\n",
      "Train Epoch: 28 [30000/60000 (50%)]\tLoss: 104.847764\n",
      "Train Epoch: 28 [35000/60000 (58%)]\tLoss: 105.674873\n",
      "Train Epoch: 28 [40000/60000 (67%)]\tLoss: 107.728145\n",
      "Train Epoch: 28 [45000/60000 (75%)]\tLoss: 105.697695\n",
      "Train Epoch: 28 [50000/60000 (83%)]\tLoss: 103.083984\n",
      "Train Epoch: 28 [55000/60000 (92%)]\tLoss: 111.279297\n",
      "====> Epoch: 28 Average loss: 107.5280\n",
      "====> Test set loss: 96.0785\n",
      "Sample on GPU\n",
      "Train Epoch: 29 [0/60000 (0%)]\tLoss: 105.757158\n",
      "Train Epoch: 29 [5000/60000 (8%)]\tLoss: 106.214453\n",
      "Train Epoch: 29 [10000/60000 (17%)]\tLoss: 112.182402\n",
      "Train Epoch: 29 [15000/60000 (25%)]\tLoss: 109.398828\n",
      "Train Epoch: 29 [20000/60000 (33%)]\tLoss: 105.531895\n",
      "Train Epoch: 29 [25000/60000 (42%)]\tLoss: 108.774746\n",
      "Train Epoch: 29 [30000/60000 (50%)]\tLoss: 106.003379\n",
      "Train Epoch: 29 [35000/60000 (58%)]\tLoss: 106.026914\n",
      "Train Epoch: 29 [40000/60000 (67%)]\tLoss: 106.584629\n",
      "Train Epoch: 29 [45000/60000 (75%)]\tLoss: 109.117129\n",
      "Train Epoch: 29 [50000/60000 (83%)]\tLoss: 108.743301\n",
      "Train Epoch: 29 [55000/60000 (92%)]\tLoss: 112.534492\n",
      "====> Epoch: 29 Average loss: 107.3225\n",
      "====> Test set loss: 96.1219\n",
      "Sample on GPU\n",
      "Train Epoch: 30 [0/60000 (0%)]\tLoss: 106.962344\n",
      "Train Epoch: 30 [5000/60000 (8%)]\tLoss: 103.144756\n",
      "Train Epoch: 30 [10000/60000 (17%)]\tLoss: 105.689434\n",
      "Train Epoch: 30 [15000/60000 (25%)]\tLoss: 110.968066\n",
      "Train Epoch: 30 [20000/60000 (33%)]\tLoss: 110.087158\n",
      "Train Epoch: 30 [25000/60000 (42%)]\tLoss: 107.979219\n",
      "Train Epoch: 30 [30000/60000 (50%)]\tLoss: 108.269834\n",
      "Train Epoch: 30 [35000/60000 (58%)]\tLoss: 104.630352\n",
      "Train Epoch: 30 [40000/60000 (67%)]\tLoss: 110.115830\n",
      "Train Epoch: 30 [45000/60000 (75%)]\tLoss: 104.596367\n",
      "Train Epoch: 30 [50000/60000 (83%)]\tLoss: 109.423359\n",
      "Train Epoch: 30 [55000/60000 (92%)]\tLoss: 111.539482\n",
      "====> Epoch: 30 Average loss: 107.1780\n",
      "====> Test set loss: 95.9390\n",
      "Sample on GPU\n",
      "Train Epoch: 31 [0/60000 (0%)]\tLoss: 106.842744\n",
      "Train Epoch: 31 [5000/60000 (8%)]\tLoss: 109.158066\n",
      "Train Epoch: 31 [10000/60000 (17%)]\tLoss: 102.012187\n",
      "Train Epoch: 31 [15000/60000 (25%)]\tLoss: 112.724707\n",
      "Train Epoch: 31 [20000/60000 (33%)]\tLoss: 112.593203\n",
      "Train Epoch: 31 [25000/60000 (42%)]\tLoss: 107.925723\n",
      "Train Epoch: 31 [30000/60000 (50%)]\tLoss: 107.634883\n",
      "Train Epoch: 31 [35000/60000 (58%)]\tLoss: 108.361211\n",
      "Train Epoch: 31 [40000/60000 (67%)]\tLoss: 108.277061\n",
      "Train Epoch: 31 [45000/60000 (75%)]\tLoss: 105.505010\n",
      "Train Epoch: 31 [50000/60000 (83%)]\tLoss: 109.611025\n",
      "Train Epoch: 31 [55000/60000 (92%)]\tLoss: 108.760039\n",
      "====> Epoch: 31 Average loss: 107.0195\n",
      "====> Test set loss: 95.8913\n",
      "Sample on GPU\n",
      "Train Epoch: 32 [0/60000 (0%)]\tLoss: 102.438936\n",
      "Train Epoch: 32 [5000/60000 (8%)]\tLoss: 104.865273\n",
      "Train Epoch: 32 [10000/60000 (17%)]\tLoss: 106.378887\n",
      "Train Epoch: 32 [15000/60000 (25%)]\tLoss: 105.893555\n",
      "Train Epoch: 32 [20000/60000 (33%)]\tLoss: 107.292832\n",
      "Train Epoch: 32 [25000/60000 (42%)]\tLoss: 105.097734\n",
      "Train Epoch: 32 [30000/60000 (50%)]\tLoss: 106.793594\n",
      "Train Epoch: 32 [35000/60000 (58%)]\tLoss: 103.651992\n",
      "Train Epoch: 32 [40000/60000 (67%)]\tLoss: 104.603242\n",
      "Train Epoch: 32 [45000/60000 (75%)]\tLoss: 104.787109\n",
      "Train Epoch: 32 [50000/60000 (83%)]\tLoss: 105.223008\n",
      "Train Epoch: 32 [55000/60000 (92%)]\tLoss: 104.616162\n",
      "====> Epoch: 32 Average loss: 106.8328\n",
      "====> Test set loss: 95.6484\n",
      "Sample on GPU\n",
      "Train Epoch: 33 [0/60000 (0%)]\tLoss: 106.132139\n",
      "Train Epoch: 33 [5000/60000 (8%)]\tLoss: 105.233721\n",
      "Train Epoch: 33 [10000/60000 (17%)]\tLoss: 105.989355\n",
      "Train Epoch: 33 [15000/60000 (25%)]\tLoss: 107.879063\n",
      "Train Epoch: 33 [20000/60000 (33%)]\tLoss: 106.138437\n",
      "Train Epoch: 33 [25000/60000 (42%)]\tLoss: 108.237773\n",
      "Train Epoch: 33 [30000/60000 (50%)]\tLoss: 102.599648\n",
      "Train Epoch: 33 [35000/60000 (58%)]\tLoss: 103.175020\n",
      "Train Epoch: 33 [40000/60000 (67%)]\tLoss: 107.864121\n",
      "Train Epoch: 33 [45000/60000 (75%)]\tLoss: 106.985898\n",
      "Train Epoch: 33 [50000/60000 (83%)]\tLoss: 110.403477\n",
      "Train Epoch: 33 [55000/60000 (92%)]\tLoss: 104.671211\n",
      "====> Epoch: 33 Average loss: 106.6582\n",
      "====> Test set loss: 95.3840\n",
      "Sample on GPU\n",
      "Train Epoch: 34 [0/60000 (0%)]\tLoss: 106.792900\n",
      "Train Epoch: 34 [5000/60000 (8%)]\tLoss: 105.106309\n",
      "Train Epoch: 34 [10000/60000 (17%)]\tLoss: 104.476348\n",
      "Train Epoch: 34 [15000/60000 (25%)]\tLoss: 103.731104\n",
      "Train Epoch: 34 [20000/60000 (33%)]\tLoss: 108.533477\n",
      "Train Epoch: 34 [25000/60000 (42%)]\tLoss: 109.952705\n",
      "Train Epoch: 34 [30000/60000 (50%)]\tLoss: 105.930098\n",
      "Train Epoch: 34 [35000/60000 (58%)]\tLoss: 101.907695\n",
      "Train Epoch: 34 [40000/60000 (67%)]\tLoss: 108.085801\n",
      "Train Epoch: 34 [45000/60000 (75%)]\tLoss: 104.987451\n",
      "Train Epoch: 34 [50000/60000 (83%)]\tLoss: 110.561104\n",
      "Train Epoch: 34 [55000/60000 (92%)]\tLoss: 106.005938\n",
      "====> Epoch: 34 Average loss: 106.4592\n",
      "====> Test set loss: 95.6551\n",
      "Sample on GPU\n",
      "Performing early stopping .. \n"
     ]
    }
   ],
   "source": [
    "# Generate 64 different digits. The sample is just the mean.\n",
    "# Turn on early stopping\n",
    "epochs = 80\n",
    "for epoch in range(1, epochs + 1):\n",
    "    optimizer.train_epoch(epoch,train_loader)\n",
    "    optimizer.test_epoch(epoch,test_loader)\n",
    "    \n",
    "    with torch.no_grad():\n",
    "        sample = torch.randn(64, D_out)\n",
    "        if gpu: \n",
    "            print(\"Sample on GPU\")\n",
    "            sample = sample.cuda()\n",
    "        sample = model_vae_.decode(sample)\n",
    "        save_image(sample.view(64, 1, 28, 28),\n",
    "                   results_path+'sample_' + str(epoch) + '.png')\n",
    "        \n",
    "    if optimizer.early_stopping and epoch>3:\n",
    "        diff = np.abs(optimizer.average_loss[-1] - optimizer.average_loss[-3])\n",
    "        thres = diff/optimizer.average_loss[-1] * 100\n",
    "        if thres<= 0.03:\n",
    "            print(\"Performing early stopping .. \")\n",
    "            break;    "
   ]
  },
  {
   "cell_type": "markdown",
   "metadata": {},
   "source": [
    "## Model Evaluation"
   ]
  },
  {
   "cell_type": "markdown",
   "metadata": {},
   "source": [
    "### Optimizer stats"
   ]
  },
  {
   "cell_type": "code",
   "execution_count": 9,
   "metadata": {},
   "outputs": [
    {
     "data": {
      "image/png": "[encoded data removed]",
      "text/plain": [
       "<matplotlib.figure.Figure at 0x7fb4782da240>"
      ]
     },
     "metadata": {},
     "output_type": "display_data"
    }
   ],
   "source": [
    "optimizer.show_stats(show=True,save=True)"
   ]
  },
  {
   "cell_type": "markdown",
   "metadata": {},
   "source": [
    "### Save Model and Gifs"
   ]
  },
  {
   "cell_type": "code",
   "execution_count": 10,
   "metadata": {
    "collapsed": true
   },
   "outputs": [],
   "source": [
    "torch.save(model_vae_.state_dict(), \"data/models\" + '/VAE_36hidden_Adam_1e-4_GPU_80epochs.pkl')\n",
    "# ... after training, save your model \n",
    "#model.save_state_dict('mytraining.pt')\n",
    "# .. to load your previously training model:\n",
    "#model.load_state_dict(torch.load('mytraining.pt'))"
   ]
  },
  {
   "cell_type": "code",
   "execution_count": null,
   "metadata": {
    "collapsed": true
   },
   "outputs": [],
   "source": [
    "image_gif = Visualize.make_gif(30)"
   ]
  },
  {
   "cell_type": "markdown",
   "metadata": {},
   "source": [
    "### Load Model \n",
    " * Loads trained model from disk"
   ]
  },
  {
   "cell_type": "code",
   "execution_count": 11,
   "metadata": {
    "scrolled": true
   },
   "outputs": [
    {
     "data": {
      "text/plain": [
       "odict_keys(['encoder.layer1.weight', 'encoder.layer1.bias', 'encoder.layer3_mu.weight', 'encoder.layer3_mu.bias', 'encoder.layer3_logvar.weight', 'encoder.layer3_logvar.bias', 'decoder.layer1.weight', 'decoder.layer1.bias', 'decoder.layer3.weight', 'decoder.layer3.bias'])"
      ]
     },
     "execution_count": 11,
     "metadata": {},
     "output_type": "execute_result"
    }
   ],
   "source": [
    "m_loaded = torch.load(f=\"data/models\" + '/VAE_36hidden_Adam_1e-4_GPU_80epochs.pkl', map_location=\"cuda\")\n",
    "m_loaded.keys()"
   ]
  },
  {
   "cell_type": "code",
   "execution_count": 12,
   "metadata": {
    "collapsed": true
   },
   "outputs": [],
   "source": [
    "model_vae_original_ = VAE(encoder,decoder).cuda()\n",
    "model_vae_original_.load_state_dict(m_loaded)"
   ]
  },
  {
   "cell_type": "markdown",
   "metadata": {},
   "source": [
    "### Save the encoding as .npy arrays with their labels by applying the learned VAE \n",
    "    - Train and Test and keep them separate. Full MNIST to a vector of 28 - so this is actually a lot smaller than 64 what was originally in the SIFT descriptor (8x8)\n",
    "    "
   ]
  },
  {
   "cell_type": "code",
   "execution_count": 13,
   "metadata": {
    "collapsed": true
   },
   "outputs": [],
   "source": [
    "train_loader, test_loader = MNIST_Loader().load(batch_size=1000)\n",
    "\n",
    "dataiter = iter(train_loader)\n",
    "X_train, Y_train = dataiter.next()\n",
    "\n",
    "dataiter_test = iter(test_loader)\n",
    "X_test, Y_test = dataiter_test.next()"
   ]
  },
  {
   "cell_type": "code",
   "execution_count": 14,
   "metadata": {},
   "outputs": [
    {
     "name": "stdout",
     "output_type": "stream",
     "text": [
      "Data on GPU\n"
     ]
    }
   ],
   "source": [
    "if gpu:\n",
    "    X_train = X_train.cuda()\n",
    "    print(\"Data on GPU\")"
   ]
  },
  {
   "cell_type": "code",
   "execution_count": 11,
   "metadata": {
    "collapsed": true
   },
   "outputs": [],
   "source": [
    "x = X_train[0].view(-1,784)"
   ]
  },
  {
   "cell_type": "code",
   "execution_count": 12,
   "metadata": {},
   "outputs": [
    {
     "data": {
      "text/plain": [
       "'torch.cuda.FloatTensor'"
      ]
     },
     "execution_count": 12,
     "metadata": {},
     "output_type": "execute_result"
    }
   ],
   "source": [
    "x.type()"
   ]
  },
  {
   "cell_type": "code",
   "execution_count": 15,
   "metadata": {
    "collapsed": true
   },
   "outputs": [],
   "source": [
    "encoded_mean, logvar = model_vae_original_.encode(X_train.view(-1,784))"
   ]
  },
  {
   "cell_type": "code",
   "execution_count": 16,
   "metadata": {},
   "outputs": [
    {
     "name": "stdout",
     "output_type": "stream",
     "text": [
      "torch.Size([1000, 36])\n",
      "torch.Size([1000, 36])\n",
      "torch.Size([1000])\n"
     ]
    }
   ],
   "source": [
    "print(encoded_mean.shape)\n",
    "print(logvar.shape)\n",
    "print(Y_train.shape)"
   ]
  },
  {
   "cell_type": "markdown",
   "metadata": {},
   "source": [
    "   ### Save encoding in .npy arrays"
   ]
  },
  {
   "cell_type": "code",
   "execution_count": 17,
   "metadata": {
    "collapsed": true
   },
   "outputs": [],
   "source": [
    "np.save(data_path+\"X_train_mu_36.npy\",encoded_mean.detach().cpu().numpy())\n",
    "np.save(data_path+\"X_train_logvar_36.npy\",logvar.detach().cpu().numpy())\n",
    "np.save(data_path+\"Y_train_36.npy\",Y_train.detach().cpu().numpy())"
   ]
  },
  {
   "cell_type": "markdown",
   "metadata": {},
   "source": [
    "### Load Model\n",
    "    * Model needs to exist first"
   ]
  },
  {
   "cell_type": "code",
   "execution_count": 41,
   "metadata": {},
   "outputs": [
    {
     "data": {
      "text/plain": [
       "torch.Size([100, 1, 28, 28])"
      ]
     },
     "execution_count": 41,
     "metadata": {},
     "output_type": "execute_result"
    }
   ],
   "source": [
    "test_loader"
   ]
  },
  {
   "cell_type": "code",
   "execution_count": 40,
   "metadata": {},
   "outputs": [
    {
     "data": {
      "text/plain": [
       "'torch.FloatTensor'"
      ]
     },
     "execution_count": 40,
     "metadata": {},
     "output_type": "execute_result"
    }
   ],
   "source": [
    "dataiter = iter(train_loader)\n",
    "images, labels = dataiter.next()"
   ]
  },
  {
   "cell_type": "markdown",
   "metadata": {},
   "source": [
    "### Plot the latent space\n",
    "    * First change the number of points you plot by selecting 10000 "
   ]
  },
  {
   "cell_type": "code",
   "execution_count": null,
   "metadata": {
    "collapsed": true
   },
   "outputs": [],
   "source": [
    "train_loader, test_loader = MNIST_Loader().load(batch_size=10000)\n",
    "\n",
    "dataiter = iter(train_loader)\n",
    "images, labels = dataiter.next()\n",
    "\n",
    "# Feed a new batch of images and get the mean and logvar of the latent space. \n",
    "# This gives you the parameters of the Gaussian\n",
    "mu, logvar = model_vae.encode(d) \n",
    "Visualize.plot_latent_space(mu,labels)\n",
    "# 2. Visualize the prior predictive distribution. Fix the latent variables between [-3,3]"
   ]
  },
  {
   "cell_type": "markdown",
   "metadata": {},
   "source": [
    "### Plot the manifold\n",
    "    * Generate the 2 dimensions by encoding a digit of your choice, then perturb the reconstruction with linspace\n",
    "    * Plot the 2 latent dimensions/means in space with the associated digits they produce"
   ]
  },
  {
   "cell_type": "code",
   "execution_count": null,
   "metadata": {
    "collapsed": true
   },
   "outputs": [],
   "source": [
    "n = np.linspace(-1, 1, 20)\n",
    "no_digit = 2\n",
    "\n",
    "img = images[no_digit]\n",
    "label = labels[no_digit]"
   ]
  },
  {
   "cell_type": "code",
   "execution_count": null,
   "metadata": {
    "collapsed": true
   },
   "outputs": [],
   "source": [
    "Visualize.plot_manifold(model_vae, n, img, label)\n",
    "\n",
    "# Proof it's random but not entirely, when you generate\n",
    "#Visualize.imshow_batch(res.view(-1,28,28).data)\n",
    "#Visualize.imshow_batch(res1.view(-1,28,28).data)"
   ]
  },
  {
   "cell_type": "markdown",
   "metadata": {},
   "source": [
    "# Latent Space Reduction"
   ]
  },
  {
   "cell_type": "code",
   "execution_count": null,
   "metadata": {
    "collapsed": true
   },
   "outputs": [],
   "source": [
    "# This is an example that aims to further reduce the latent space. \n",
    "latent_data = LatentSpaceDataset(mu,labels)\n",
    "mini_train_loader = DataLoader(dataset=latent_data, batch_size = 100, shuffle=True)\n",
    "\n",
    "#mini_data_iter = iter(mini_train_loader)\n",
    "#datapoint, label = mini_data_iter.next()\n",
    "D_in_latent, H_latent, D_out_latent = 20, 10, 2\n",
    "encoder1 = Encoder(D_in_latent, H_latent, D_out_latent)\n",
    "decoder1 = Decoder(D_out_latent, H_latent, D_in_latent)\n",
    "\n",
    "#model_vae = VAE().to(device) - if cuda is available, but not the case, yet\n",
    "model = VAE(encoder1,decoder1)\n",
    "optimizer1 = Optimizer(model,optimizer = optim.Adam(model.parameters(), lr=1e-3))\n",
    "\n",
    "# Generate 64 different digits. The sample is just the mean.\n",
    "epochs = 15\n",
    "for epoch in range(1, epochs + 1):\n",
    "    optimizer1.train_epoch(epoch,mini_train_loader)\n",
    "    #optimizer1.test_epoch(epoch,test_loader)\n",
    "    \n",
    "mu_latent, logvar_latent = model.encode(mu.view(-1,20))    \n",
    "plot_latent_space(mu_latent,labels)"
   ]
  }
 ],
 "metadata": {
  "kernelspec": {
   "display_name": "Python 3",
   "language": "python",
   "name": "python3"
  },
  "language_info": {
   "codemirror_mode": {
    "name": "ipython",
    "version": 3
   },
   "file_extension": ".py",
   "mimetype": "text/x-python",
   "name": "python",
   "nbconvert_exporter": "python",
   "pygments_lexer": "ipython3",
   "version": "3.6.2"
  }
 },
 "nbformat": 4,
 "nbformat_minor": 2
}
