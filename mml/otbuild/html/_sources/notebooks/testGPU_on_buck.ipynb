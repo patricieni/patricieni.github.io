{
 "cells": [
  {
   "cell_type": "code",
   "execution_count": 1,
   "metadata": {
    "collapsed": true
   },
   "outputs": [],
   "source": [
    "from __future__ import print_function\n",
    "import torch\n",
    "%matplotlib inline\n",
    "\n",
    "import os\n",
    "import subprocess\n",
    "from pathlib import Path\n",
    "import numpy as np\n",
    "from numpy import testing\n",
    "import pandas as pd\n",
    "import matplotlib\n",
    "import matplotlib.pyplot as plt\n",
    "import matplotlib.pylab as pl\n",
    "import seaborn as sns\n",
    "\n",
    "from sklearn.metrics import adjusted_rand_score, confusion_matrix\n",
    "from sklearn.preprocessing import StandardScaler, Normalizer\n",
    "\n",
    "import metric_learn\n",
    "from sklearn.neighbors import KNeighborsClassifier\n",
    "from sklearn.metrics import classification_report\n",
    "from sklearn.neighbors import NearestNeighbors\n",
    "from sklearn.neighbors import DistanceMetric\n",
    "from sklearn.neighbors.ball_tree import BallTree\n",
    "from mpl_toolkits.mplot3d import Axes3D\n",
    "from sklearn.model_selection import train_test_split\n",
    "from sklearn.metrics import log_loss\n",
    "\n",
    "# Shogun - Metric Learning\n",
    "from shogun import LMNN as shogun_LMNN\n",
    "from shogun import RealFeatures, MulticlassLabels\n",
    "from sklearn.utils.validation import check_X_y, check_array\n",
    "\n",
    "# POT imports\n",
    "import ot\n",
    "from ot.datasets import get_1D_gauss as gauss\n",
    "\n",
    "# MML import \n",
    "from mml import wasserstein, transform, gml, ot_testing, datasets, helper\n",
    "\n",
    "data_path = str(Path(os.getcwd())) + \"/data/\"\n",
    "results_path = str(Path(os.getcwd())) + \"/results/binary\"\n"
   ]
  },
  {
   "cell_type": "code",
   "execution_count": 2,
   "metadata": {},
   "outputs": [
    {
     "data": {
      "text/plain": [
       "True"
      ]
     },
     "execution_count": 2,
     "metadata": {},
     "output_type": "execute_result"
    }
   ],
   "source": [
    "gpu = torch.cuda.is_available()\n",
    "gpu"
   ]
  },
  {
   "cell_type": "code",
   "execution_count": 2,
   "metadata": {
    "collapsed": true
   },
   "outputs": [],
   "source": [
    "# Load Hellinger representation of the data \n",
    "X,Y = datasets.load_mnist(\"Hellinger\")\n",
    "X_train,X_test,Y_train,Y_test = train_test_split(X,Y,train_size=0.25,test_size=0.75,random_state=123)"
   ]
  },
  {
   "cell_type": "code",
   "execution_count": 4,
   "metadata": {
    "collapsed": true
   },
   "outputs": [],
   "source": [
    "data_dict = datasets.dictionary(X,Y)\n",
    "\n",
    "# We can have at most 45 unique pairs, create all possible pairs \n",
    "[x12,y12] = datasets.data_pairs(data_dict,1,2)\n",
    "\n",
    "X_train,X_test,Y_train,Y_test = train_test_split(x12,y12,train_size=0.25,test_size=0.75,random_state=123)\n",
    "\n",
    "# Transform into histogram \n",
    "# Neither Wasserstein POT nor LMNN are normalized, have to do it yourself\n",
    "#[X_train_normalized, X_test_normalized] = transform.normalize(X_train,X_test,'l1')\n",
    "\n",
    "X_train_normalized = X_train/X_train.sum(axis=1).reshape((-1,1))\n",
    "X_test_normalized = X_test/X_test.sum(axis=1).reshape((-1,1))\n",
    "n = X_train_normalized.shape[0]"
   ]
  },
  {
   "cell_type": "code",
   "execution_count": 5,
   "metadata": {
    "collapsed": true
   },
   "outputs": [],
   "source": [
    "# These are independent of what data we choose, only on the dimensionality of a datapoint, i.e. here is 64\n",
    "d = X_train.shape[1]\n",
    "x = np.arange(d,dtype=np.float64)\n",
    "x1 = x.reshape((d,1))\n",
    "# By default metric ='sqeuclidean' in the function\n",
    "M_sqeuclidean = ot.dist(x1,x1,metric='sqeuclidean')\n",
    "M_eye = ot.dist(x1,x1,metric='hamming')\n",
    "\n",
    "xx,yy = np.meshgrid(np.arange(8),np.arange(8))\n",
    "xy = np.hstack((xx.reshape(-1,1),yy.reshape(-1,1)))\n",
    "M_mesh = ot.dist(xy, xy)"
   ]
  },
  {
   "cell_type": "markdown",
   "metadata": {},
   "source": [
    "### Test Wasserstein distance on GPU\n"
   ]
  },
  {
   "cell_type": "code",
   "execution_count": 8,
   "metadata": {},
   "outputs": [
    {
     "name": "stdout",
     "output_type": "stream",
     "text": [
      "Distance is: 0.41690076244381286\n"
     ]
    }
   ],
   "source": [
    "# This is just to show that there are numerical errors when computing the coupling/distances. \n",
    "# In the algorithms, I just say entry at i,j equals j,i, so T1 == T2 \n",
    "r = X_train_normalized[1]\n",
    "c = X_train_normalized[3]\n",
    "m = X_train_normalized[2]\n",
    "n = X_train_normalized[4]\n",
    "\n",
    "G1 = wasserstein.distance(r,c, **{'ground metric': M_eye})\n",
    "[T1,M1] = wasserstein.coupling(r,c,**{'ground metric': M_eye})\n",
    "\n",
    "[T2,M2] = wasserstein.coupling(c,r,**{'ground metric': M_eye})\n",
    "\n",
    "\n",
    "print('Distance is: {0}'.format(G1))"
   ]
  },
  {
   "cell_type": "code",
   "execution_count": 6,
   "metadata": {},
   "outputs": [
    {
     "data": {
      "text/plain": [
       "<matplotlib.image.AxesImage at 0x7f03bdd39c18>"
      ]
     },
     "execution_count": 6,
     "metadata": {},
     "output_type": "execute_result"
    },
    {
     "data": {
      "image/png": "[encoded data removed]",
      "text/plain": [
       "<matplotlib.figure.Figure at 0x7f03bdcb1f98>"
      ]
     },
     "metadata": {},
     "output_type": "display_data"
    }
   ],
   "source": [
    "plt.imshow(M_mesh)"
   ]
  },
  {
   "cell_type": "code",
   "execution_count": 2,
   "metadata": {},
   "outputs": [
    {
     "name": "stdout",
     "output_type": "stream",
     "text": [
      "\n",
      " 9.3513e+19  4.5581e-41  7.3700e-37\n",
      " 0.0000e+00  2.1771e-04  4.8573e-38\n",
      " 6.8664e-44  0.0000e+00  8.3937e-37\n",
      " 0.0000e+00  9.3512e+19  4.5581e-41\n",
      " 7.3359e-37  0.0000e+00  6.4381e-37\n",
      "[torch.FloatTensor of size 5x3]\n",
      "\n"
     ]
    }
   ],
   "source": [
    "x = torch.Tensor(5, 3)\n",
    "print(x)\n",
    "\n",
    "y = torch.Tensor(5,3)\n",
    "print(y)"
   ]
  },
  {
   "cell_type": "code",
   "execution_count": null,
   "metadata": {
    "collapsed": true
   },
   "outputs": [],
   "source": [
    "torch.cuda.set_device(0)"
   ]
  },
  {
   "cell_type": "code",
   "execution_count": null,
   "metadata": {
    "collapsed": true,
    "scrolled": true
   },
   "outputs": [],
   "source": [
    "torch.cuda.current_device()"
   ]
  },
  {
   "cell_type": "code",
   "execution_count": null,
   "metadata": {
    "collapsed": true
   },
   "outputs": [],
   "source": [
    "x = x.cuda()\n",
    "y = y.cuda()\n",
    "print(x + y)"
   ]
  },
  {
   "cell_type": "code",
   "execution_count": null,
   "metadata": {
    "collapsed": true
   },
   "outputs": [],
   "source": [
    "if torch.cuda.is_available():\n",
    "    "
   ]
  },
  {
   "cell_type": "code",
   "execution_count": 10,
   "metadata": {},
   "outputs": [
    {
     "ename": "AttributeError",
     "evalue": "'torch.FloatTensor' object has no attribute 'to'",
     "output_type": "error",
     "traceback": [
      "\u001b[0;31m---------------------------------------------------------------------------\u001b[0m",
      "\u001b[0;31mAttributeError\u001b[0m                            Traceback (most recent call last)",
      "\u001b[0;32m<ipython-input-10-f631863d0428>\u001b[0m in \u001b[0;36m<module>\u001b[0;34m()\u001b[0m\n\u001b[1;32m      1\u001b[0m \u001b[0;32mif\u001b[0m \u001b[0mtorch\u001b[0m\u001b[0;34m.\u001b[0m\u001b[0mcuda\u001b[0m\u001b[0;34m.\u001b[0m\u001b[0mis_available\u001b[0m\u001b[0;34m(\u001b[0m\u001b[0;34m)\u001b[0m\u001b[0;34m:\u001b[0m\u001b[0;34m\u001b[0m\u001b[0m\n\u001b[1;32m      2\u001b[0m     \u001b[0mdevice\u001b[0m \u001b[0;34m=\u001b[0m \u001b[0mtorch\u001b[0m\u001b[0;34m.\u001b[0m\u001b[0mcuda\u001b[0m\u001b[0;34m.\u001b[0m\u001b[0mset_device\u001b[0m\u001b[0;34m(\u001b[0m\u001b[0;36m0\u001b[0m\u001b[0;34m)\u001b[0m          \u001b[0;31m# a CUDA device object\u001b[0m\u001b[0;34m\u001b[0m\u001b[0m\n\u001b[0;32m----> 3\u001b[0;31m     \u001b[0my\u001b[0m \u001b[0;34m=\u001b[0m \u001b[0mtorch\u001b[0m\u001b[0;34m.\u001b[0m\u001b[0mTensor\u001b[0m\u001b[0;34m(\u001b[0m\u001b[0;36m5\u001b[0m\u001b[0;34m,\u001b[0m\u001b[0;36m3\u001b[0m\u001b[0;34m)\u001b[0m\u001b[0;34m.\u001b[0m\u001b[0mto\u001b[0m\u001b[0;34m(\u001b[0m\u001b[0mdevice\u001b[0m\u001b[0;34m)\u001b[0m  \u001b[0;31m# directly create a tensor on GPU\u001b[0m\u001b[0;34m\u001b[0m\u001b[0m\n\u001b[0m\u001b[1;32m      4\u001b[0m     \u001b[0mx\u001b[0m \u001b[0;34m=\u001b[0m \u001b[0mx\u001b[0m\u001b[0;34m.\u001b[0m\u001b[0mto\u001b[0m\u001b[0;34m(\u001b[0m\u001b[0mdevice\u001b[0m\u001b[0;34m)\u001b[0m                       \u001b[0;31m# or just use strings ``.to(\"cuda\")``\u001b[0m\u001b[0;34m\u001b[0m\u001b[0m\n\u001b[1;32m      5\u001b[0m     \u001b[0mz\u001b[0m \u001b[0;34m=\u001b[0m \u001b[0mx\u001b[0m \u001b[0;34m+\u001b[0m \u001b[0my\u001b[0m\u001b[0;34m\u001b[0m\u001b[0m\n",
      "\u001b[0;31mAttributeError\u001b[0m: 'torch.FloatTensor' object has no attribute 'to'"
     ]
    }
   ],
   "source": [
    "if torch.cuda.is_available():\n",
    "    device = torch.cuda.set_device(0)          # a CUDA device object\n",
    "    y = torch.Tensor(5,3).to(device)  # directly create a tensor on GPU\n",
    "    x = x.to(device)                       # or just use strings ``.to(\"cuda\")``\n",
    "    z = x + y\n",
    "    print(z)\n",
    "    print(z.to(\"cpu\", torch.double)) "
   ]
  },
  {
   "cell_type": "code",
   "execution_count": null,
   "metadata": {
    "collapsed": true
   },
   "outputs": [],
   "source": []
  }
 ],
 "metadata": {
  "kernelspec": {
   "display_name": "Python 3",
   "language": "python",
   "name": "python3"
  },
  "language_info": {
   "codemirror_mode": {
    "name": "ipython",
    "version": 3
   },
   "file_extension": ".py",
   "mimetype": "text/x-python",
   "name": "python",
   "nbconvert_exporter": "python",
   "pygments_lexer": "ipython3",
   "version": "3.6.2"
  }
 },
 "nbformat": 4,
 "nbformat_minor": 2
}
