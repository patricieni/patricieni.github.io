{
 "cells": [
  {
   "cell_type": "code",
   "execution_count": 1,
   "metadata": {
    "collapsed": true
   },
   "outputs": [],
   "source": [
    "#!./metric -a 0 -f matrix.3 -m 10"
   ]
  },
  {
   "cell_type": "code",
   "execution_count": 11,
   "metadata": {},
   "outputs": [
    {
     "ename": "SyntaxError",
     "evalue": "unexpected character after line continuation character (<ipython-input-11-5959d484200a>, line 46)",
     "output_type": "error",
     "traceback": [
      "\u001b[0;36m  File \u001b[0;32m\"<ipython-input-11-5959d484200a>\"\u001b[0;36m, line \u001b[0;32m46\u001b[0m\n\u001b[0;31m    from ..\\mml import wasserstein, transform, gml, ot_testing, datasets, helper\u001b[0m\n\u001b[0m                                                                                ^\u001b[0m\n\u001b[0;31mSyntaxError\u001b[0m\u001b[0;31m:\u001b[0m unexpected character after line continuation character\n"
     ]
    }
   ],
   "source": [
    "#import warnings\n",
    "#warnings.filterwarnings(\"ignore\")\n",
    "import time\n",
    "import tqdm\n",
    "from tqdm import tqdm_notebook as tqdm_notebook\n",
    "from tqdm import trange\n",
    "import logging\n",
    "from collections import OrderedDict\n",
    "logger = logging.getLogger(__name__)\n",
    "\n",
    "# Your code goes here\n",
    "import os\n",
    "import subprocess\n",
    "from pathlib import Path\n",
    "import numpy as np\n",
    "from numpy import testing\n",
    "import pandas as pd\n",
    "import matplotlib\n",
    "import matplotlib.pyplot as plt\n",
    "import matplotlib.pylab as pl\n",
    "import seaborn as sns\n",
    "\n",
    "from sklearn.metrics import adjusted_rand_score, confusion_matrix\n",
    "from sklearn.preprocessing import StandardScaler, Normalizer\n",
    "\n",
    "import metric_learn\n",
    "from sklearn.neighbors import KNeighborsClassifier\n",
    "from sklearn.metrics import classification_report\n",
    "from sklearn.neighbors import NearestNeighbors\n",
    "from sklearn.neighbors import DistanceMetric\n",
    "from sklearn.neighbors.ball_tree import BallTree\n",
    "from mpl_toolkits.mplot3d import Axes3D\n",
    "from sklearn.model_selection import train_test_split\n",
    "from sklearn.metrics import log_loss\n",
    "\n",
    "# Shogun - Metric Learning\n",
    "from shogun import LMNN as shogun_LMNN\n",
    "from shogun import RealFeatures, MulticlassLabels\n",
    "from sklearn.utils.validation import check_X_y, check_array\n",
    "\n",
    "# POT imports\n",
    "import ot\n",
    "from ot.datasets import get_1D_gauss as gauss\n",
    "\n",
    "# MML import \n",
    "from ..mml import wasserstein, transform, gml, ot_testing, datasets, helper\n",
    "\n",
    "data_path = str(Path(os.getcwd())) + \"/data/\"\n",
    "\n",
    "def write_to_pickle(dataframe, name):\n",
    "    dataframe.to_pickle(data_path + name + \".pickle\")\n",
    "def read_from_pickle(name): \n",
    "    return pd.read_pickle(data_path + name + \".pickle\")"
   ]
  },
  {
   "cell_type": "code",
   "execution_count": 2,
   "metadata": {
    "collapsed": true
   },
   "outputs": [],
   "source": [
    "import mml.gml as gml"
   ]
  },
  {
   "cell_type": "code",
   "execution_count": null,
   "metadata": {
    "collapsed": true
   },
   "outputs": [],
   "source": [
    "r11 = np.load('r1.npy')\n",
    "r22 = np.load('r2.npy')\n",
    "\n",
    "d1 = 7744\n",
    "x4 = np.arange(d1,dtype=np.float64)\n",
    "x5 = x4.reshape((d1,1))\n",
    "\n",
    "M_remus = ot.dist(x5,x5,metric='euclidean')\n",
    "\n",
    "G1 = ot.emd2(r11,r22,M_remus)\n",
    "G1\n",
    "G2 = wasserstein.distance(r11,r22,**{'ground metric':M_remus})\n",
    "G2\n",
    "[T,M] = wasserstein.coupling(r11,r22,**{'ground metric':M_remus})"
   ]
  },
  {
   "cell_type": "code",
   "execution_count": 3,
   "metadata": {},
   "outputs": [
    {
     "name": "stdout",
     "output_type": "stream",
     "text": [
      "/Users/patricfulop/Documents/Code/Optimal/metricNearness_process\n",
      "/Users/patricfulop/Documents/Code/Optimal\n"
     ]
    },
    {
     "data": {
      "text/plain": [
       "array([[ 0.,  2.,  3.],\n",
       "       [ 0.,  0.,  0.],\n",
       "       [ 1.,  1.,  1.]])"
      ]
     },
     "execution_count": 3,
     "metadata": {},
     "output_type": "execute_result"
    }
   ],
   "source": [
    "a = np.array([[1,2,3],[0,0,0],[1,1,1]])\n",
    "gml.project_metric(a)"
   ]
  },
  {
   "cell_type": "code",
   "execution_count": 2,
   "metadata": {
    "collapsed": true
   },
   "outputs": [],
   "source": [
    "# output is in bytes, maybe I should do all the processing in C++\n",
    "# rewrite the library to take in a matrix and output a matrix, \n",
    "# so i can call it in a loop without reading/writing to files\n",
    "# -a is type L1, L2, KL. -m is number of iterations, -f is the file\n",
    "output = subprocess.check_output('./metric -a 0 -f matrix -m 10', shell = True )"
   ]
  },
  {
   "cell_type": "markdown",
   "metadata": {},
   "source": [
    "## Read output from metricNearness process"
   ]
  },
  {
   "cell_type": "code",
   "execution_count": 3,
   "metadata": {
    "collapsed": true
   },
   "outputs": [],
   "source": [
    "lines = str(output).split('\\\\n')"
   ]
  },
  {
   "cell_type": "code",
   "execution_count": 4,
   "metadata": {
    "collapsed": true
   },
   "outputs": [],
   "source": [
    "shape = lines[5].split(\" \")\n",
    "rows = int(shape[0])\n",
    "cols = int(shape[1])\n",
    "# Although its square matrix assume it's not\n",
    "matrix = lines[6:6+rows]\n",
    "m  = np.zeros((rows,cols))\n",
    "\n",
    "for i,row in enumerate(matrix): \n",
    "    vals = row.strip().split(\" \")\n",
    "    m[i] = np.array(vals,dtype=float)"
   ]
  },
  {
   "cell_type": "markdown",
   "metadata": {},
   "source": [
    "## Write back to 'matrix' file the matrix m "
   ]
  },
  {
   "cell_type": "code",
   "execution_count": 9,
   "metadata": {
    "collapsed": true
   },
   "outputs": [],
   "source": [
    "with open('matrix', 'w') as outfile:\n",
    "    outfile.write(first_line+\"\\n\")\n",
    "    np.savetxt('matrix', np.matrix(m),fmt=\"%.3f\")"
   ]
  }
 ],
 "metadata": {
  "kernelspec": {
   "display_name": "Python 3",
   "language": "python",
   "name": "python3"
  },
  "language_info": {
   "codemirror_mode": {
    "name": "ipython",
    "version": 3
   },
   "file_extension": ".py",
   "mimetype": "text/x-python",
   "name": "python",
   "nbconvert_exporter": "python",
   "pygments_lexer": "ipython3",
   "version": "3.6.2"
  }
 },
 "nbformat": 4,
 "nbformat_minor": 2
}
