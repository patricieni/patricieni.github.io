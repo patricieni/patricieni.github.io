{
 "cells": [
  {
   "cell_type": "code",
   "execution_count": 1,
   "metadata": {
    "collapsed": true
   },
   "outputs": [],
   "source": [
    "#import warnings\n",
    "#warnings.filterwarnings(\"ignore\")\n",
    "from __future__ import print_function, division\n",
    "%matplotlib inline\n",
    "import time\n",
    "import tqdm\n",
    "from tqdm import tqdm_notebook as tqdm_notebook\n",
    "from tqdm import trange\n",
    "import logging\n",
    "from collections import OrderedDict\n",
    "logger = logging.getLogger(__name__)\n",
    "\n",
    "# Your code goes here\n",
    "import os\n",
    "import subprocess\n",
    "from pathlib import Path\n",
    "import numpy as np\n",
    "from numpy import testing\n",
    "import pandas as pd\n",
    "import matplotlib\n",
    "import matplotlib.pyplot as plt\n",
    "import matplotlib.pylab as pl\n",
    "import seaborn as sns\n",
    "\n",
    "from sklearn.metrics import adjusted_rand_score, confusion_matrix\n",
    "from sklearn.preprocessing import StandardScaler, Normalizer\n",
    "\n",
    "import metric_learn\n",
    "from sklearn.neighbors import KNeighborsClassifier\n",
    "from sklearn.metrics import classification_report\n",
    "from sklearn.neighbors import NearestNeighbors\n",
    "from sklearn.neighbors import DistanceMetric\n",
    "from sklearn.neighbors.ball_tree import BallTree\n",
    "from mpl_toolkits.mplot3d import Axes3D\n",
    "from sklearn.model_selection import train_test_split\n",
    "from sklearn.metrics import log_loss\n",
    "\n",
    "# Shogun - Metric Learning\n",
    "from shogun import LMNN as shogun_LMNN\n",
    "from shogun import RealFeatures, MulticlassLabels\n",
    "from sklearn.utils.validation import check_X_y, check_array\n",
    "\n",
    "\n",
    "# POT imports\n",
    "import ot\n",
    "from ot.datasets import get_1D_gauss as gauss\n",
    "\n",
    "# MML import \n",
    "from mml import wasserstein, transform, gml, ot_testing, datasets, helper\n",
    "\n",
    "data_path = str(Path(os.getcwd())) + \"/data/\"\n",
    "multiclass_path = str(Path(os.getcwd())) + \"/results/multiclass/\"\n",
    "binary_path = str(Path(os.getcwd())) + \"/results/binary/\"\n",
    "knn_data = str(Path(os.getcwd())) + \"/data/knn_data/\"\n",
    "\n",
    "def write_to_pickle(dataframe, name):\n",
    "    dataframe.to_pickle(data_path + name + \".pickle\")\n",
    "def read_from_pickle(name): \n",
    "    return pd.read_pickle(data_path + name + \".pickle\")"
   ]
  },
  {
   "cell_type": "code",
   "execution_count": 2,
   "metadata": {
    "collapsed": true
   },
   "outputs": [],
   "source": [
    "from sklearn.decomposition import PCA"
   ]
  },
  {
   "cell_type": "code",
   "execution_count": 3,
   "metadata": {},
   "outputs": [
    {
     "data": {
      "text/plain": [
       "<module 'mml.helper' from '/Users/patricfulop/Documents/Code/Optimal/mml/helper.py'>"
      ]
     },
     "execution_count": 3,
     "metadata": {},
     "output_type": "execute_result"
    }
   ],
   "source": [
    "import importlib\n",
    "importlib.reload(wasserstein)\n",
    "importlib.reload(gml)\n",
    "importlib.reload(helper)"
   ]
  },
  {
   "cell_type": "code",
   "execution_count": 4,
   "metadata": {
    "collapsed": true
   },
   "outputs": [],
   "source": [
    "# Load Hellinger representation of the data \n",
    "#X,Y = datasets.load_mnist(\"Hellinger\")\n",
    "X= np.load(data_path+\"X.npy\")\n",
    "Y= np.load(data_path+\"Y.npy\")"
   ]
  },
  {
   "cell_type": "code",
   "execution_count": 5,
   "metadata": {},
   "outputs": [
    {
     "data": {
      "text/plain": [
       "(1797, 64)"
      ]
     },
     "execution_count": 5,
     "metadata": {},
     "output_type": "execute_result"
    }
   ],
   "source": [
    "X.shape"
   ]
  },
  {
   "cell_type": "code",
   "execution_count": 6,
   "metadata": {
    "collapsed": true
   },
   "outputs": [],
   "source": [
    "X_train_normalized = np.load(knn_data+ \"X_train_normalized.npy\")\n",
    "X_test_normalized = np.load(knn_data+ \"X_test_normalized.npy\")\n",
    "Y_train = np.load(knn_data+ \"Y_train.npy\")"
   ]
  },
  {
   "cell_type": "code",
   "execution_count": 7,
   "metadata": {},
   "outputs": [
    {
     "data": {
      "text/plain": [
       "(449,)"
      ]
     },
     "execution_count": 7,
     "metadata": {},
     "output_type": "execute_result"
    }
   ],
   "source": [
    "Y_train.shape"
   ]
  },
  {
   "cell_type": "code",
   "execution_count": 42,
   "metadata": {},
   "outputs": [],
   "source": [
    "# Transform the data using 95% of variance. \n",
    "X_train_std = StandardScaler().fit_transform(X)"
   ]
  },
  {
   "cell_type": "code",
   "execution_count": 47,
   "metadata": {},
   "outputs": [
    {
     "data": {
      "text/plain": [
       "0.74832578187866983"
      ]
     },
     "execution_count": 47,
     "metadata": {},
     "output_type": "execute_result"
    }
   ],
   "source": [
    "X_train_std[5].var()"
   ]
  },
  {
   "cell_type": "code",
   "execution_count": 29,
   "metadata": {},
   "outputs": [
    {
     "data": {
      "text/plain": [
       "(64,)"
      ]
     },
     "execution_count": 29,
     "metadata": {},
     "output_type": "execute_result"
    }
   ],
   "source": [
    "X_train_normalized[6].shape"
   ]
  },
  {
   "cell_type": "markdown",
   "metadata": {},
   "source": [
    "## Fit PCA on normalized reduced dataset, with test dataset bigger"
   ]
  },
  {
   "cell_type": "code",
   "execution_count": 8,
   "metadata": {
    "collapsed": true
   },
   "outputs": [],
   "source": [
    "# Has to be square number\n",
    "pca = PCA(n_components=36)\n",
    "pca.fit(X_train_normalized)\n",
    "X_train_pca = pca.transform(X_train_normalized)\n",
    "X_test_pca = pca.transform(X_test_normalized)"
   ]
  },
  {
   "cell_type": "code",
   "execution_count": 50,
   "metadata": {},
   "outputs": [],
   "source": [
    "helper.save_ndarray(data_path+\"PCA_Components\",pca.components_)"
   ]
  },
  {
   "cell_type": "code",
   "execution_count": 38,
   "metadata": {
    "collapsed": true
   },
   "outputs": [],
   "source": [
    "helper.save_ndarray(data_path+\"X_train_pca\",X_train_pca)\n",
    "helper.save_ndarray(data_path+ \"X_test_pca\",X_test_pca)"
   ]
  },
  {
   "cell_type": "markdown",
   "metadata": {},
   "source": [
    "## Fit PCA on original dataset, with test dataset smaller"
   ]
  },
  {
   "cell_type": "code",
   "execution_count": 13,
   "metadata": {
    "collapsed": true
   },
   "outputs": [],
   "source": [
    "pca1 = PCA(n_components=36)\n",
    "pca1.fit(X)\n",
    "X_PCA = pca1.transform(X)"
   ]
  },
  {
   "cell_type": "code",
   "execution_count": 25,
   "metadata": {
    "collapsed": true
   },
   "outputs": [],
   "source": [
    "# I'm pretty sure X_PCA was generated using the above\n",
    "helper.save_ndarray(data_path+\"X_PCA\",X_PCA)"
   ]
  },
  {
   "cell_type": "code",
   "execution_count": 18,
   "metadata": {
    "collapsed": true
   },
   "outputs": [],
   "source": [
    "X_train, X_test,Y_train,Y_test = train_test_split(X_PCA,Y,train_size=0.25,test_size=0.75,random_state=123)"
   ]
  },
  {
   "cell_type": "code",
   "execution_count": 20,
   "metadata": {
    "collapsed": true
   },
   "outputs": [],
   "source": [
    "d = X_train.shape[1]\n",
    "x = np.arange(d,dtype=np.float64)\n",
    "x2 = x.reshape((d,1))\n",
    "M_sqeuclidean = ot.dist(x2,x2,metric='sqeuclidean')\n",
    "M_eye = ot.dist(x2,x2,metric='hamming')\n",
    "\n",
    "xx,yy = np.meshgrid(np.arange(np.sqrt(d)),np.arange(np.sqrt(d)))\n",
    "xy = np.hstack((xx.reshape(-1,1),yy.reshape(-1,1)))\n",
    "M_mesh = ot.dist(xy, xy)\n",
    "M = M_mesh"
   ]
  },
  {
   "cell_type": "code",
   "execution_count": 22,
   "metadata": {},
   "outputs": [
    {
     "data": {
      "text/plain": [
       "38"
      ]
     },
     "execution_count": 22,
     "metadata": {},
     "output_type": "execute_result"
    }
   ],
   "source": [
    "d "
   ]
  },
  {
   "cell_type": "code",
   "execution_count": null,
   "metadata": {
    "collapsed": true
   },
   "outputs": [],
   "source": [
    "X_latent = np.load(data_path + \"latent/X_train_mu.npy\")\n",
    "Y_latent = np.load(data_path + \"latent/Y_train.npy\")"
   ]
  },
  {
   "cell_type": "code",
   "execution_count": null,
   "metadata": {
    "collapsed": true
   },
   "outputs": [],
   "source": [
    "(X < 0).sum()"
   ]
  },
  {
   "cell_type": "code",
   "execution_count": null,
   "metadata": {
    "collapsed": true
   },
   "outputs": [],
   "source": [
    "X_latent.shape"
   ]
  },
  {
   "cell_type": "code",
   "execution_count": null,
   "metadata": {
    "collapsed": true
   },
   "outputs": [],
   "source": [
    "# Representation so far is a matrix of row vectors each representing a digit..\n",
    "# Let's make it the same way for Caltech - do you think it will hold in memory? "
   ]
  },
  {
   "cell_type": "code",
   "execution_count": null,
   "metadata": {
    "collapsed": true
   },
   "outputs": [],
   "source": [
    "data_dict = datasets.mnist_dictionary(X,Y)\n",
    "\n",
    "# This method also need to make sure you're choosing a balanced dataset, with n digits from each bin\n",
    "# This method does not exist yet\n",
    "# [x12,y12] = datasets.data_pairs(data_dict,1,2,no_samples = 30)\n",
    "[x12,y12] = datasets.data_pairs(data_dict,1,2)\n",
    "\n",
    "X_train,X_test,Y_train,Y_test = train_test_split(x12,y12,train_size=0.25,test_size=0.75,random_state=123)\n",
    "\n",
    "X_train_normalized = X_train/X_train.sum(axis=1).reshape((-1,1))\n",
    "X_test_normalized = X_test/X_test.sum(axis=1).reshape((-1,1))\n",
    "n = X_train_normalized.shape[0]    "
   ]
  },
  {
   "cell_type": "markdown",
   "metadata": {},
   "source": [
    "## Print learned distances and objective functions - can I get the objective to act more nicely?"
   ]
  },
  {
   "cell_type": "markdown",
   "metadata": {},
   "source": [
    "## Binary experiments \n",
    "- Print at least 5 experiments with different digits and their objective on the same plot\n",
    "- Print for the Caltech dataset as well\n",
    "\n",
    "## Multiclass experiments \n",
    "- Print 1 run of experiment "
   ]
  },
  {
   "cell_type": "code",
   "execution_count": 26,
   "metadata": {
    "collapsed": true
   },
   "outputs": [],
   "source": [
    "gml_pca = np.load(multiclass_path + \"gml_mnist_sift_pca.npy\")\n",
    "obj_pca = helper.load_json(multiclass_path+\"objective_mnist_sift_pca\")"
   ]
  },
  {
   "cell_type": "code",
   "execution_count": 44,
   "metadata": {
    "collapsed": true
   },
   "outputs": [],
   "source": [
    "gml_pca1 = np.load(multiclass_path +\"gml_mnist_sift_pca_1.npy\")\n",
    "obj_pca1 = helper.load_json(multiclass_path +\"objective_mnist_sift_pca_1\")"
   ]
  },
  {
   "cell_type": "code",
   "execution_count": 46,
   "metadata": {},
   "outputs": [
    {
     "data": {
      "image/png": "[encoded data removed]",
      "text/plain": [
       "<matplotlib.figure.Figure at 0x11d56b668>"
      ]
     },
     "metadata": {},
     "output_type": "display_data"
    }
   ],
   "source": [
    "plt.imshow(gml_pca1);"
   ]
  },
  {
   "cell_type": "code",
   "execution_count": 48,
   "metadata": {},
   "outputs": [
    {
     "data": {
      "image/png": "[encoded data removed]",
      "text/plain": [
       "<matplotlib.figure.Figure at 0x11dc49710>"
      ]
     },
     "metadata": {},
     "output_type": "display_data"
    }
   ],
   "source": [
    "plt.plot(obj_pca1);"
   ]
  },
  {
   "cell_type": "code",
   "execution_count": 27,
   "metadata": {},
   "outputs": [
    {
     "data": {
      "image/png": "[encoded data removed]",
      "text/plain": [
       "<matplotlib.figure.Figure at 0x11ceed7f0>"
      ]
     },
     "metadata": {},
     "output_type": "display_data"
    }
   ],
   "source": [
    "plt.title(\"MNIST SIFT PCA Metric (36x36)\")\n",
    "plt.imshow(gml_pca);\n",
    "plt.savefig(\"MNIST_SIFT_PCA\")"
   ]
  },
  {
   "cell_type": "code",
   "execution_count": 31,
   "metadata": {},
   "outputs": [
    {
     "data": {
      "image/png": "[encoded data removed]",
      "text/plain": [
       "<matplotlib.figure.Figure at 0x11d2faf60>"
      ]
     },
     "metadata": {},
     "output_type": "display_data"
    }
   ],
   "source": [
    "M_gml_sift = np.load(multiclass_path + \"gml_mnist_sift.npy\")\n",
    "plt.title(\"MNIST SIFT Metric (64x64)\")\n",
    "plt.imshow(M_gml_sift)\n",
    "plt.savefig(\"MNIST_SIFT\")"
   ]
  },
  {
   "cell_type": "code",
   "execution_count": 32,
   "metadata": {
    "collapsed": true
   },
   "outputs": [],
   "source": [
    "#gml_multi = np.load(multiclass_path + \"gml_mnist.npy\")\n",
    "obj_multi = helper.load_json(multiclass_path+\"objective_mnist_sift\")"
   ]
  },
  {
   "cell_type": "code",
   "execution_count": 33,
   "metadata": {},
   "outputs": [
    {
     "data": {
      "text/plain": [
       "[<matplotlib.lines.Line2D at 0x11d3a1668>]"
      ]
     },
     "execution_count": 33,
     "metadata": {},
     "output_type": "execute_result"
    },
    {
     "data": {
      "image/png": "[encoded data removed]",
      "text/plain": [
       "<matplotlib.figure.Figure at 0x11c408518>"
      ]
     },
     "metadata": {},
     "output_type": "display_data"
    }
   ],
   "source": [
    "plt.plot(obj_multi)"
   ]
  },
  {
   "cell_type": "code",
   "execution_count": null,
   "metadata": {
    "collapsed": true
   },
   "outputs": [],
   "source": [
    "gml_original = np.load(multiclass_path+\"gml30samples.npy\")"
   ]
  },
  {
   "cell_type": "code",
   "execution_count": null,
   "metadata": {
    "collapsed": true
   },
   "outputs": [],
   "source": [
    "gml59 = np.load(binary_path+\"matrix17.npy\")\n",
    "obj59 = helper.load_json(binary_path+\"objective17\")"
   ]
  },
  {
   "cell_type": "code",
   "execution_count": null,
   "metadata": {
    "collapsed": true
   },
   "outputs": [],
   "source": [
    "plt.title(\"MNIST SIFT Metric (64x64)\")\n",
    "plt.imshow(gml_original);\n",
    "plt.savefig(\"MNIST_SIFT\")"
   ]
  },
  {
   "cell_type": "code",
   "execution_count": null,
   "metadata": {
    "collapsed": true
   },
   "outputs": [],
   "source": [
    "plt.title(\"MNIST VAE Metric (25x25)\")\n",
    "plt.imshow(gml_multi);\n",
    "plt.savefig(\"MNIST_VAE\")"
   ]
  },
  {
   "cell_type": "code",
   "execution_count": null,
   "metadata": {
    "collapsed": true
   },
   "outputs": [],
   "source": [
    "plt.plot(obj59);"
   ]
  }
 ],
 "metadata": {
  "kernelspec": {
   "display_name": "Python 3",
   "language": "python",
   "name": "python3"
  },
  "language_info": {
   "codemirror_mode": {
    "name": "ipython",
    "version": 3
   },
   "file_extension": ".py",
   "mimetype": "text/x-python",
   "name": "python",
   "nbconvert_exporter": "python",
   "pygments_lexer": "ipython3",
   "version": "3.6.2"
  }
 },
 "nbformat": 4,
 "nbformat_minor": 2
}
