{
 "cells": [
  {
   "cell_type": "code",
   "execution_count": 1,
   "metadata": {
    "collapsed": true
   },
   "outputs": [],
   "source": []
  },
  {
   "cell_type": "code",
   "execution_count": 8,
   "metadata": {
    "collapsed": true
   },
   "outputs": [],
   "source": [
    "import numpy as np\n",
    "np.set_printoptions(precision=2)\n",
    "\n",
    "from sklearn.decomposition import PCA\n",
    "from sklearn.model_selection import train_test_split as tts\n",
    "from sklearn.preprocessing import StandardScaler, Normalizer\n",
    "\n",
    "import seaborn\n",
    "\n",
    "import matplotlib\n",
    "import matplotlib.pyplot as plt\n",
    "import matplotlib.pylab as pl\n",
    "%matplotlib inline\n",
    "\n",
    "from sklearn.datasets import load_digits\n",
    "digits = load_digits()\n",
    "#print(digits.DESCR)\n",
    "\n",
    "X = np.sqrt(digits.data)\n",
    "Y = digits.target\n",
    "\n",
    "X_train,X_test,Y_train, Y_test = tts(X,Y,train_size=0.8,test_size=0.2,random_state=0)\n",
    "\n",
    "import pandas as pd\n",
    "#pd.set_eng_float_format(accuracy=1) #, use_eng_prefix=True)\n",
    "pd_X_train = pd.DataFrame(X_train)\n",
    "c = pd_X_train.corr()\n",
    "print(c.iloc[25:36,25:36])\n",
    "\n",
    "\n",
    "plt.imshow(c.values,cmap='gray_r')\n",
    "\n",
    "X_train.mean(axis=0)\n",
    "\n",
    "fig, ax = plt.subplots(1,2,figsize=(20,12))\n",
    "# Original image\n",
    "seaborn.heatmap(X_train[5].reshape((8,8)), cmap='gray_r',ax=ax[0], square=True, cbar=False,\n",
    "            annot=True, fmt='0.1f', vmin=-5, vmax=5)\n",
    "ax[0].set_title('Original (sqrt) image')\n",
    "\n",
    "X_tr_mean = X_train.mean(axis=0)\n",
    "X_tr_std  = X_train.std(axis=0)\n",
    "#print(X_std.reshape((8,8)))\n",
    "#print(X_tr_std.reshape ((8,8))[:,0:9])\n",
    "print(X_tr_mean.reshape((8,8))[:,0:4],'\\n',\n",
    "X_tr_std.reshape((8,8))[:,0:4])\n",
    "\n",
    "\n",
    "fig, ax = plt.subplots(1,2,figsize=(20,12))\n",
    "# Original image\n",
    "seaborn.heatmap(X_tr_std.reshape((8,8)), ax=ax[0], square=True, cbar=False,\n",
    "            annot=True, fmt='0.1f', vmin=-5, vmax=5,cmap='gray_r')\n",
    "seaborn.heatmap(X_tr_mean.reshape((8,8)), cmap='gray_r',ax=ax[1], square=True, cbar=False,\n",
    "            annot=True, fmt='0.1f', vmin=-5, vmax=5)\n",
    "ax[0].set_title('Std image')\n",
    "ax[1].set_title('Mean image')"
   ]
  },
  {
   "cell_type": "code",
   "execution_count": 9,
   "metadata": {
    "collapsed": true
   },
   "outputs": [],
   "source": [
    "def normalize(x_train,x_test): # to get a probability out of a non-negative vector\n",
    "    sc = Normalizer('l1').fit(x_train)\n",
    "    X_train_normalized = sc.transform(x_train)\n",
    "    X_test_normalized = sc.transform(x_test)\n",
    "    return [X_train_normalized, X_test_normalized]"
   ]
  },
  {
   "cell_type": "code",
   "execution_count": 10,
   "metadata": {
    "collapsed": true
   },
   "outputs": [],
   "source": [
    "std_scale = StandardScaler() # for mean and std\n",
    "\n",
    "std_scale.fit(X_train)\n",
    "print(std_scale.scale_.reshape((8,8)))\n",
    "# we see that the scaler does not divide by zero which is reasonable\n",
    "# is PCA dropping the deterministic attributes?\n",
    "\n",
    "X_train_std = std_scale.transform(X_train)\n",
    "X_test_std  = std_scale.transform(X_test)\n",
    "\n",
    "pca = PCA(n_components=10)\n",
    "pca.fit(X_train_std)\n",
    "X_train_pca, X_test_pca = pca.transform(X_train_std), pca.transform(X_test_std)\n",
    "\n",
    "print(pca.components_[0])\n",
    "x = pca.components_\n",
    "x.shape\n",
    "print(x[:,[0,32,39]]) # indeed PCA drops the dead attributes\n",
    "\n",
    "def up_distance(x1,x2):\n",
    "    y1, y2 = pca.transform(x1),pca.transform(x2) # should I scale it first?\n",
    "    y12 = y1 - y2 \n",
    "    return np.linalg.norm(y12)\n",
    "\n",
    "up_distance(np.ones((1,64)),np.zeros((1,64)))\n",
    "tmp = pca.transform(np.ones((1,64)))\n",
    "print(tmp)\n",
    "np.linalg.norm(tmp)"
   ]
  },
  {
   "cell_type": "markdown",
   "metadata": {},
   "source": [
    "scaling does not commute with pca\n",
    "https://stats.stackexchange.com/questions/69157/why-do-we-need-to-normalize-data-before-principal-component-analysis-pca"
   ]
  }
 ],
 "metadata": {
  "kernelspec": {
   "display_name": "Python 3",
   "language": "python",
   "name": "python3"
  },
  "language_info": {
   "codemirror_mode": {
    "name": "ipython",
    "version": 3
   },
   "file_extension": ".py",
   "mimetype": "text/x-python",
   "name": "python",
   "nbconvert_exporter": "python",
   "pygments_lexer": "ipython3",
   "version": "3.6.2"
  }
 },
 "nbformat": 4,
 "nbformat_minor": 2
}
